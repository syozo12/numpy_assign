{
 "cells": [
  {
   "cell_type": "code",
   "execution_count": 1,
   "id": "4fc44253-31db-4caf-86c7-882227e953d0",
   "metadata": {},
   "outputs": [
    {
     "data": {
      "text/plain": [
       "\" Given a NumPy array 'arr' with float64 data type, convert it to float32 to reduce \\ndecimal precision.\""
      ]
     },
     "execution_count": 1,
     "metadata": {},
     "output_type": "execute_result"
    }
   ],
   "source": [
    "\"\"\" Given a NumPy array 'arr' with float64 data type, convert it to float32 to reduce \n",
    "decimal precision.\"\"\""
   ]
  },
  {
   "cell_type": "code",
   "execution_count": 6,
   "id": "bbf269f5-fd21-4695-a713-d9cf8d00e71e",
   "metadata": {},
   "outputs": [
    {
     "name": "stdout",
     "output_type": "stream",
     "text": [
      "float32\n"
     ]
    }
   ],
   "source": [
    "import numpy as np\n",
    "arr=np.array([1,2,3,4],dtype=np.float64)\n",
    "#arr.dtype=np.float32\n",
    "arr=arr.astype(np.float32)\n",
    "print(arr.dtype)\n"
   ]
  },
  {
   "cell_type": "code",
   "execution_count": null,
   "id": "bea8b7e3-c511-4b4b-8bd6-a13cc3c88349",
   "metadata": {},
   "outputs": [],
   "source": []
  }
 ],
 "metadata": {
  "kernelspec": {
   "display_name": "Python 3 (ipykernel)",
   "language": "python",
   "name": "python3"
  },
  "language_info": {
   "codemirror_mode": {
    "name": "ipython",
    "version": 3
   },
   "file_extension": ".py",
   "mimetype": "text/x-python",
   "name": "python",
   "nbconvert_exporter": "python",
   "pygments_lexer": "ipython3",
   "version": "3.10.8"
  }
 },
 "nbformat": 4,
 "nbformat_minor": 5
}
