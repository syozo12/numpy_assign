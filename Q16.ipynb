{
 "cells": [
  {
   "cell_type": "code",
   "execution_count": null,
   "id": "487534be-16e0-4570-a24f-1ed2849835a1",
   "metadata": {},
   "outputs": [],
   "source": [
    ". Write a function that takes a Python list and converts\n",
    "it into a NumPy array"
   ]
  },
  {
   "cell_type": "code",
   "execution_count": 1,
   "id": "5108c7e3-4390-4ce1-850d-382ae5f80f25",
   "metadata": {},
   "outputs": [
    {
     "name": "stdin",
     "output_type": "stream",
     "text": [
      "enter the number of elements 5\n",
      " 1\n",
      " 2\n",
      " 3\n",
      " 4\n",
      " 5\n"
     ]
    },
    {
     "data": {
      "text/plain": [
       "array([1, 2, 3, 4, 5])"
      ]
     },
     "execution_count": 1,
     "metadata": {},
     "output_type": "execute_result"
    }
   ],
   "source": [
    "import numpy as np\n",
    "def convert(li):\n",
    "    return np.array(li)\n",
    "li=[]\n",
    "n=int(input(\"enter the number of elements\"))\n",
    "for i in range(n):\n",
    "    x=int(input())\n",
    "    li.append(x)\n",
    "convert(li)"
   ]
  },
  {
   "cell_type": "code",
   "execution_count": null,
   "id": "bbcd8a17-db21-4a5e-9051-df316c167db7",
   "metadata": {},
   "outputs": [],
   "source": []
  }
 ],
 "metadata": {
  "kernelspec": {
   "display_name": "Python 3 (ipykernel)",
   "language": "python",
   "name": "python3"
  },
  "language_info": {
   "codemirror_mode": {
    "name": "ipython",
    "version": 3
   },
   "file_extension": ".py",
   "mimetype": "text/x-python",
   "name": "python",
   "nbconvert_exporter": "python",
   "pygments_lexer": "ipython3",
   "version": "3.10.8"
  }
 },
 "nbformat": 4,
 "nbformat_minor": 5
}
