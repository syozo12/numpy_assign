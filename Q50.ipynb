{
 "cells": [
  {
   "cell_type": "code",
   "execution_count": 12,
   "id": "092dfec6-6b77-4020-b4ea-3890bd903a1d",
   "metadata": {},
   "outputs": [
    {
     "data": {
      "text/plain": [
       "array([ 1, 10, 11,  4,  5])"
      ]
     },
     "execution_count": 12,
     "metadata": {},
     "output_type": "execute_result"
    }
   ],
   "source": [
    "\"\"\" Write a function that inserts and then deletes \n",
    "elements from a given array at specified indices.\n",
    " original_array = np.array([1, 2, 3, 4, 5]) ",
    "\n",
    " indices_to_insert = [2, 4] ",
    "\n",
    " values_to_insert = [10, 11] ",
    "\n",
    " indices_to_delete = [1, 3]\"\"\"\n",
    "import numpy as np\n",
    "def insert_del(original_array,indices_to_insert,values_to_insert,indices_to_delete):\n",
    "    for idx, value in zip(indices_to_insert, values_to_insert):\n",
    "            original_array = np.insert(original_array, idx, value)\n",
    "    original_array = np.delete(original_array, indices_to_delete)\n",
    "\n",
    "    return original_array\n",
    "original_array = np.array([1, 2, 3, 4, 5])\n",
    "indices_to_insert = [2, 4]\n",
    "values_to_insert = [10, 11]\n",
    "indices_to_delete = [1, 3]\n",
    "insert_del(original_array,indices_to_insert,values_to_insert,indices_to_delete)\n",
    "    \n"
   ]
  },
  {
   "cell_type": "code",
   "execution_count": null,
   "id": "5f274292-e1ed-43e9-ac8a-67e7f666d4a5",
   "metadata": {},
   "outputs": [],
   "source": []
  }
 ],
 "metadata": {
  "kernelspec": {
   "display_name": "Python 3 (ipykernel)",
   "language": "python",
   "name": "python3"
  },
  "language_info": {
   "codemirror_mode": {
    "name": "ipython",
    "version": 3
   },
   "file_extension": ".py",
   "mimetype": "text/x-python",
   "name": "python",
   "nbconvert_exporter": "python",
   "pygments_lexer": "ipython3",
   "version": "3.10.8"
  }
 },
 "nbformat": 4,
 "nbformat_minor": 5
}
