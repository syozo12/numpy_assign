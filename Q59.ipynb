{
 "cells": [
  {
   "cell_type": "code",
   "execution_count": 5,
   "id": "bb4357d3-ad11-4af3-a1ad-2026ef92284f",
   "metadata": {},
   "outputs": [
    {
     "name": "stdout",
     "output_type": "stream",
     "text": [
      "HelloOpen\n",
      "WorldAI\n"
     ]
    }
   ],
   "source": [
    "\"\"\" Write a function that concatenates strings in a \n",
    "NumPy array element-wise.\n",
    "arr1 = np.array(['Hello', 'World']) ",
    "\n",
    "arr2 = np.array(['Open', 'AI'])\"\"\"\n",
    "import numpy as np\n",
    "def add_strings(arr1,arr2):\n",
    "    for a,b in zip(arr1,arr2):\n",
    "        print(a+b)\n",
    "    return \n",
    "arr1 = np.array(['Hello', 'World'])\n",
    "arr2 = np.array(['Open', 'AI'])\n",
    "add_strings(arr1,arr2)\n"
   ]
  },
  {
   "cell_type": "code",
   "execution_count": null,
   "id": "bfff46ec-a44f-4d1c-8352-31cf14767a60",
   "metadata": {},
   "outputs": [],
   "source": []
  }
 ],
 "metadata": {
  "kernelspec": {
   "display_name": "Python 3 (ipykernel)",
   "language": "python",
   "name": "python3"
  },
  "language_info": {
   "codemirror_mode": {
    "name": "ipython",
    "version": 3
   },
   "file_extension": ".py",
   "mimetype": "text/x-python",
   "name": "python",
   "nbconvert_exporter": "python",
   "pygments_lexer": "ipython3",
   "version": "3.10.8"
  }
 },
 "nbformat": 4,
 "nbformat_minor": 5
}
