{
 "cells": [
  {
   "cell_type": "code",
   "execution_count": 3,
   "id": "71b11161-470b-46ba-9a8c-e28ebf1abdbe",
   "metadata": {},
   "outputs": [
    {
     "name": "stdout",
     "output_type": "stream",
     "text": [
      "[[20 66 61 26 82]]\n",
      "[[47 48  5 92 29]]\n",
      "-0.6103586837717484\n"
     ]
    }
   ],
   "source": [
    "\"\"\" Create two arrays representing two sets of variables. \n",
    "Compute the correlation coefficient between these \n",
    "arrays using NumPy's `corrcoef` function\"\"\"\n",
    "import numpy as np\n",
    "import random \n",
    "arr1=np.random.randint(1,101,size=(1,5))\n",
    "arr2=np.random.randint(1,101,size=(1,5))\n",
    "print(arr1)\n",
    "print(arr2)\n",
    "correlation_coefficient=np.corrcoef(arr1,arr2)\n",
    "print(correlation_coefficient[0,1])"
   ]
  },
  {
   "cell_type": "code",
   "execution_count": null,
   "id": "84087d57-31f7-4e2b-9fd9-a5405a8d70fd",
   "metadata": {},
   "outputs": [],
   "source": []
  }
 ],
 "metadata": {
  "kernelspec": {
   "display_name": "Python 3 (ipykernel)",
   "language": "python",
   "name": "python3"
  },
  "language_info": {
   "codemirror_mode": {
    "name": "ipython",
    "version": 3
   },
   "file_extension": ".py",
   "mimetype": "text/x-python",
   "name": "python",
   "nbconvert_exporter": "python",
   "pygments_lexer": "ipython3",
   "version": "3.10.8"
  }
 },
 "nbformat": 4,
 "nbformat_minor": 5
}
