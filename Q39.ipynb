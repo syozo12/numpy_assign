{
 "cells": [
  {
   "cell_type": "code",
   "execution_count": 2,
   "id": "5ab64ac2-c0b1-41c5-b60c-66355dcd39a5",
   "metadata": {},
   "outputs": [
    {
     "data": {
      "text/plain": [
       "'. Consider two arrays arr1 of shape (3, 1) and arr2\\nof shape (1, 3). Add these arrays using NumPy \\nbroadcasting'"
      ]
     },
     "execution_count": 2,
     "metadata": {},
     "output_type": "execute_result"
    }
   ],
   "source": [
    "\"\"\". Consider two arrays arr1 of shape (3, 1) and arr2\n",
    "of shape (1, 3). Add these arrays using NumPy \n",
    "broadcasting\"\"\""
   ]
  },
  {
   "cell_type": "code",
   "execution_count": 4,
   "id": "6545cee9-021b-4c50-8719-a9cf09d01197",
   "metadata": {},
   "outputs": [
    {
     "data": {
      "text/plain": [
       "array([[3, 4, 5],\n",
       "       [4, 5, 6],\n",
       "       [5, 6, 7]])"
      ]
     },
     "execution_count": 4,
     "metadata": {},
     "output_type": "execute_result"
    }
   ],
   "source": [
    "import numpy as np\n",
    "arr1=np.arange(3).reshape(1,3)\n",
    "arr2=np.arange(3,6).reshape(3,1)\n",
    "arr1+arr2\n",
    "    "
   ]
  },
  {
   "cell_type": "code",
   "execution_count": null,
   "id": "ac35cc45-5800-41df-9af6-65abedc5695b",
   "metadata": {},
   "outputs": [],
   "source": []
  }
 ],
 "metadata": {
  "kernelspec": {
   "display_name": "Python 3 (ipykernel)",
   "language": "python",
   "name": "python3"
  },
  "language_info": {
   "codemirror_mode": {
    "name": "ipython",
    "version": 3
   },
   "file_extension": ".py",
   "mimetype": "text/x-python",
   "name": "python",
   "nbconvert_exporter": "python",
   "pygments_lexer": "ipython3",
   "version": "3.10.8"
  }
 },
 "nbformat": 4,
 "nbformat_minor": 5
}
