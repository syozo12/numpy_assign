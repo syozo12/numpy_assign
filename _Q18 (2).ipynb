{
 "cells": [
  {
   "cell_type": "code",
   "execution_count": 1,
   "id": "0b14e347-b3a2-4613-af96-345294cac386",
   "metadata": {},
   "outputs": [],
   "source": [
    "#Write a function that takes two NumPy arrays and\n",
    "#concatenates them along a specified axis."
   ]
  },
  {
   "cell_type": "code",
   "execution_count": null,
   "id": "36cc61b8-0872-4ad5-90d1-2babbd78db35",
   "metadata": {},
   "outputs": [],
   "source": [
    "import numpy as np\n",
    "def add(arr1,arr2):\n",
    "    if(axis==0):\n",
    "        return np.concatinate((arr1,arr2),axis=axis)\n",
    "    else:\n",
    "        return np.concatinate((arr1,arr2),axis=axis)\n",
    "arr1=np.arange(9).reshape(3,3)\n",
    "arr1=np.arange(9).reshape(3,3)\n",
    "axis=1\n"
   ]
  },
  {
   "cell_type": "code",
   "execution_count": null,
   "id": "a0f759e9-75c8-4ed4-b1c1-eb5b4feebedf",
   "metadata": {},
   "outputs": [],
   "source": []
  }
 ],
 "metadata": {
  "kernelspec": {
   "display_name": "Python 3 (ipykernel)",
   "language": "python",
   "name": "python3"
  },
  "language_info": {
   "codemirror_mode": {
    "name": "ipython",
    "version": 3
   },
   "file_extension": ".py",
   "mimetype": "text/x-python",
   "name": "python",
   "nbconvert_exporter": "python",
   "pygments_lexer": "ipython3",
   "version": "3.10.8"
  }
 },
 "nbformat": 4,
 "nbformat_minor": 5
}
