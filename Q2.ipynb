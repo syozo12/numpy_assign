{
 "cells": [
  {
   "cell_type": "code",
   "execution_count": 1,
   "id": "cb1786cf-eeb6-4f9e-8eef-c85f3911a0b7",
   "metadata": {},
   "outputs": [
    {
     "name": "stdout",
     "output_type": "stream",
     "text": [
      "True \n"
     ]
    }
   ],
   "source": [
    "# Given a NumPy array 'arr', check if its data type is float64\n",
    "import numpy as np\n",
    "arr=np.array([1.5, 2.6, 3.7])\n",
    "print(f\"{arr.dtype==np.float64} \")"
   ]
  },
  {
   "cell_type": "code",
   "execution_count": null,
   "id": "36434b33-4e6a-492f-86ea-02eb597317dd",
   "metadata": {},
   "outputs": [],
   "source": []
  }
 ],
 "metadata": {
  "kernelspec": {
   "display_name": "Python 3 (ipykernel)",
   "language": "python",
   "name": "python3"
  },
  "language_info": {
   "codemirror_mode": {
    "name": "ipython",
    "version": 3
   },
   "file_extension": ".py",
   "mimetype": "text/x-python",
   "name": "python",
   "nbconvert_exporter": "python",
   "pygments_lexer": "ipython3",
   "version": "3.10.8"
  }
 },
 "nbformat": 4,
 "nbformat_minor": 5
}
