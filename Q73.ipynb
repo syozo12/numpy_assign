{
 "cells": [
  {
   "cell_type": "code",
   "execution_count": 1,
   "id": "82e19854-491a-4a38-aecc-7f15c292baa3",
   "metadata": {},
   "outputs": [
    {
     "name": "stdout",
     "output_type": "stream",
     "text": [
      "Original array: [1 2 3]\n",
      "Swapped array: [16777216 33554432 50331648]\n"
     ]
    }
   ],
   "source": [
    "\"\"\" For the given NumPy array, swap its byte order \n",
    "without modifying the original array using \n",
    "`newbyteorder()`.\n",
    " arr = np.array([1, 2, 3], dtype=np.int32)\"\"\"\n",
    "import numpy as np\n",
    "\n",
    "arr = np.array([1, 2, 3], dtype=np.int32)\n",
    "swapped_arr = arr.newbyteorder('big')  # Specify 'big' for big-endian or 'little' for little-endian\n",
    "\n",
    "print(\"Original array:\", arr)\n",
    "print(\"Swapped array:\", swapped_arr)"
   ]
  },
  {
   "cell_type": "code",
   "execution_count": null,
   "id": "2d278839-9b6f-4478-ad59-cece14e3735e",
   "metadata": {},
   "outputs": [],
   "source": []
  }
 ],
 "metadata": {
  "kernelspec": {
   "display_name": "Python 3 (ipykernel)",
   "language": "python",
   "name": "python3"
  },
  "language_info": {
   "codemirror_mode": {
    "name": "ipython",
    "version": 3
   },
   "file_extension": ".py",
   "mimetype": "text/x-python",
   "name": "python",
   "nbconvert_exporter": "python",
   "pygments_lexer": "ipython3",
   "version": "3.10.8"
  }
 },
 "nbformat": 4,
 "nbformat_minor": 5
}
