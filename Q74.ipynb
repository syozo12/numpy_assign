{
 "cells": [
  {
   "cell_type": "code",
   "execution_count": 1,
   "id": "61ec5968-01f4-4fe1-b3f6-912879dc0df4",
   "metadata": {},
   "outputs": [
    {
     "name": "stdout",
     "output_type": "stream",
     "text": [
      "Original array:\n",
      "[1 2 3]\n",
      "\n",
      "Swapped array based on system endianness:\n",
      "[1 2 3]\n"
     ]
    }
   ],
   "source": [
    "\"\"\". For the given NumPy array and swap its byte order conditionally based on system endianness using \n",
    "`newbyteorder()`.\n",
    " arr = np.array([1, 2, 3], dtype=np.int32)\"\"\"\n",
    "import numpy as np\n",
    "\n",
    "arr = np.array([1, 2, 3], dtype=np.int32)\n",
    "\n",
    "# Check system endianness\n",
    "if arr.dtype.byteorder == '<':\n",
    "    # Little-endian system\n",
    "    swapped_arr = arr.newbyteorder('>')\n",
    "else:\n",
    "    # Big-endian system\n",
    "    swapped_arr = arr.newbyteorder('<')\n",
    "\n",
    "print(\"Original array:\")\n",
    "print(arr)\n",
    "print(\"\\nSwapped array based on system endianness:\")\n",
    "print(swapped_arr)\n"
   ]
  },
  {
   "cell_type": "code",
   "execution_count": null,
   "id": "8a27f6f0-589c-4f03-90fc-bd28639d1afd",
   "metadata": {},
   "outputs": [],
   "source": [
    "|"
   ]
  }
 ],
 "metadata": {
  "kernelspec": {
   "display_name": "Python 3 (ipykernel)",
   "language": "python",
   "name": "python3"
  },
  "language_info": {
   "codemirror_mode": {
    "name": "ipython",
    "version": 3
   },
   "file_extension": ".py",
   "mimetype": "text/x-python",
   "name": "python",
   "nbconvert_exporter": "python",
   "pygments_lexer": "ipython3",
   "version": "3.10.8"
  }
 },
 "nbformat": 4,
 "nbformat_minor": 5
}
