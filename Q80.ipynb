{
 "cells": [
  {
   "cell_type": "code",
   "execution_count": 1,
   "id": "69458337-b0fd-4293-be73-a843aa198d84",
   "metadata": {},
   "outputs": [
    {
     "name": "stdout",
     "output_type": "stream",
     "text": [
      "before\n",
      "data [[ 8 10  6  2]\n",
      " [ 4  6  8  2]\n",
      " [11 12 10 12]]\n",
      "data_copy [ 8 10  6  6  8 11 12 10 12]\n",
      "after\n",
      "data [[ 8 10  6  2]\n",
      " [ 4  6  8  2]\n",
      " [11 12 10 12]]\n",
      "data_cpy [99 10  6  6  8 11 12 10 12]\n"
     ]
    }
   ],
   "source": [
    "\"\"\" Create a NumPy array `data` of shape (3, 4) with \n",
    "random integers. Extract a copy `data_copy` of elements\n",
    "greater than 5. Modify an element in `data_copy`\n",
    "and verify if it affects the original `data`.\"\"\"\n",
    "import numpy as np\n",
    "data=np.random.randint(13,size=(3,4))\n",
    "print(\"before\")\n",
    "print(\"data\",data)\n",
    "data_copy=data[data>5]\n",
    "print(\"data_copy\",data_copy)\n",
    "data_copy[0]=99\n",
    "print(\"after\")\n",
    "print(\"data\",data)\n",
    "print(\"data_cpy\",data_copy)\n",
    "\n",
    "\n",
    "\n"
   ]
  },
  {
   "cell_type": "code",
   "execution_count": null,
   "id": "c3769fb7-0742-4f71-b077-332ce28627eb",
   "metadata": {},
   "outputs": [],
   "source": []
  }
 ],
 "metadata": {
  "kernelspec": {
   "display_name": "Python 3 (ipykernel)",
   "language": "python",
   "name": "python3"
  },
  "language_info": {
   "codemirror_mode": {
    "name": "ipython",
    "version": 3
   },
   "file_extension": ".py",
   "mimetype": "text/x-python",
   "name": "python",
   "nbconvert_exporter": "python",
   "pygments_lexer": "ipython3",
   "version": "3.10.8"
  }
 },
 "nbformat": 4,
 "nbformat_minor": 5
}
