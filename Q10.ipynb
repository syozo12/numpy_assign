{
 "cells": [
  {
   "cell_type": "code",
   "execution_count": null,
   "id": "cad91d72-300d-46f5-b7a7-b6dad5bd4d20",
   "metadata": {},
   "outputs": [],
   "source": [
    "\"\"\"10. Design a function shape_stride_relationship that \n",
    "takes a NumPy array as\n",
    "input and returns the shape and strides of the array.\"\"\"\n",
    "import numpy as np\n",
    "def shape_stride_relationship(arr):\n",
    "    return np.shape(arr),arr.stride\n",
    "arr=np.arange(9).reshape(3,3)\n",
    "print(arr)\n",
    "shape,strides=shape_stride_relationship(arr)\n",
    "print(\"\"ides)"
   ]
  }
 ],
 "metadata": {
  "kernelspec": {
   "display_name": "Python 3 (ipykernel)",
   "language": "python",
   "name": "python3"
  },
  "language_info": {
   "codemirror_mode": {
    "name": "ipython",
    "version": 3
   },
   "file_extension": ".py",
   "mimetype": "text/x-python",
   "name": "python",
   "nbconvert_exporter": "python",
   "pygments_lexer": "ipython3",
   "version": "3.10.8"
  }
 },
 "nbformat": 4,
 "nbformat_minor": 5
}
