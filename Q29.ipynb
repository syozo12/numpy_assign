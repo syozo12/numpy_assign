{
 "cells": [
  {
   "cell_type": "code",
   "execution_count": 1,
   "id": "431f3956-4672-4e55-8ee1-afab31b15466",
   "metadata": {},
   "outputs": [
    {
     "data": {
      "text/plain": [
       "'Perform basic slicing to extract elements from index \\n2 to 5 (inclusive) from the given NumPy array.\\n arr = np.array([1, 2, 3, 4, 5, 6, 7, 8, 9])'"
      ]
     },
     "execution_count": 1,
     "metadata": {},
     "output_type": "execute_result"
    }
   ],
   "source": [
    "\"\"\"Perform basic slicing to extract elements from index \n",
    "2 to 5 (inclusive) from the given NumPy array.\n",
    " arr = np.array([1, 2, 3, 4, 5, 6, 7, 8, 9])\"\"\""
   ]
  },
  {
   "cell_type": "code",
   "execution_count": 2,
   "id": "279d0bf2-dda1-43e7-99b0-82980afe05f8",
   "metadata": {},
   "outputs": [
    {
     "data": {
      "text/plain": [
       "array([3, 4, 5, 6])"
      ]
     },
     "execution_count": 2,
     "metadata": {},
     "output_type": "execute_result"
    }
   ],
   "source": [
    "import numpy as np\n",
    "arr = np.array([1, 2, 3, 4, 5, 6, 7, 8, 9])\n",
    "arr[2:6]\n"
   ]
  },
  {
   "cell_type": "code",
   "execution_count": null,
   "id": "682b8e3e-8c1f-4d71-8452-b74896793cb1",
   "metadata": {},
   "outputs": [],
   "source": []
  }
 ],
 "metadata": {
  "kernelspec": {
   "display_name": "Python 3 (ipykernel)",
   "language": "python",
   "name": "python3"
  },
  "language_info": {
   "codemirror_mode": {
    "name": "ipython",
    "version": 3
   },
   "file_extension": ".py",
   "mimetype": "text/x-python",
   "name": "python",
   "nbconvert_exporter": "python",
   "pygments_lexer": "ipython3",
   "version": "3.10.8"
  }
 },
 "nbformat": 4,
 "nbformat_minor": 5
}
