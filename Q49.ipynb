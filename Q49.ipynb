{
 "cells": [
  {
   "cell_type": "code",
   "execution_count": 1,
   "id": "c5a73d19-f430-4892-bf18-c68f278a4358",
   "metadata": {},
   "outputs": [
    {
     "data": {
      "text/plain": [
       "' Create a function that splits an array into multiple \\nsub-arrays along a specified axis.\\noriginal_array = np.array([[1, 2, 3], [4, 5, 6], [7, 8, 9]])'"
      ]
     },
     "execution_count": 1,
     "metadata": {},
     "output_type": "execute_result"
    }
   ],
   "source": [
    "\"\"\" Create a function that splits an array into multiple \n",
    "sub-arrays along a specified axis.\n",
    "original_array = np.array([[1, 2, 3], [4, 5, 6], [7, 8, 9]])\"\"\""
   ]
  },
  {
   "cell_type": "code",
   "execution_count": 2,
   "id": "17f206d8-9fc9-4a90-aae6-dcbd9fef4c3d",
   "metadata": {},
   "outputs": [
    {
     "data": {
      "text/plain": [
       "[array([[1],\n",
       "        [4],\n",
       "        [7]]),\n",
       " array([[2],\n",
       "        [5],\n",
       "        [8]]),\n",
       " array([[3],\n",
       "        [6],\n",
       "        [9]])]"
      ]
     },
     "execution_count": 2,
     "metadata": {},
     "output_type": "execute_result"
    }
   ],
   "source": [
    "import numpy as np\n",
    "def split():\n",
    "    return np.split(original_array,3,axis=1)\n",
    "original_array = np.array([[1, 2, 3], [4, 5, 6], [7, 8, 9]])\n",
    "split()"
   ]
  },
  {
   "cell_type": "code",
   "execution_count": 5,
   "id": "099608d4-64d7-4ca8-92bc-2089098df50f",
   "metadata": {},
   "outputs": [
    {
     "data": {
      "text/plain": [
       "[array([[1, 2, 3]]), array([[4, 5, 6]]), array([[7, 8, 9]])]"
      ]
     },
     "execution_count": 5,
     "metadata": {},
     "output_type": "execute_result"
    }
   ],
   "source": [
    "np.vsplit(original_array,3)"
   ]
  },
  {
   "cell_type": "code",
   "execution_count": null,
   "id": "781ade47-92db-4d85-a3d8-4a61f04e478c",
   "metadata": {},
   "outputs": [],
   "source": []
  }
 ],
 "metadata": {
  "kernelspec": {
   "display_name": "Python 3 (ipykernel)",
   "language": "python",
   "name": "python3"
  },
  "language_info": {
   "codemirror_mode": {
    "name": "ipython",
    "version": 3
   },
   "file_extension": ".py",
   "mimetype": "text/x-python",
   "name": "python",
   "nbconvert_exporter": "python",
   "pygments_lexer": "ipython3",
   "version": "3.10.8"
  }
 },
 "nbformat": 4,
 "nbformat_minor": 5
}
