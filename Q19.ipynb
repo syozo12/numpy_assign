{
 "cells": [
  {
   "cell_type": "code",
   "execution_count": null,
   "id": "34a7c35c-ea2c-425a-ac47-a0c5390f291b",
   "metadata": {},
   "outputs": [],
   "source": [
    "\"\"\"Create two NumPy arrays with different shapes\n",
    "and concatenate them horizontally using `numpy.\n",
    " concatenate`\"\"\""
   ]
  },
  {
   "cell_type": "code",
   "execution_count": 7,
   "id": "658cfe8d-c65e-4fa6-8019-06b111c1c95c",
   "metadata": {},
   "outputs": [
    {
     "data": {
      "text/plain": [
       "array([[ 0,  1, 12, 13, 14],\n",
       "       [ 2,  3, 15, 16, 17],\n",
       "       [ 4,  5, 18, 19, 20],\n",
       "       [ 6,  7, 21, 22, 23],\n",
       "       [ 8,  9, 24, 25, 26],\n",
       "       [10, 11, 27, 28, 29]])"
      ]
     },
     "execution_count": 7,
     "metadata": {},
     "output_type": "execute_result"
    }
   ],
   "source": [
    "import numpy as np\n",
    "def add(arr1,arr2):\n",
    "    if(arr1.shape[0]!=arr2.shape[0]):\n",
    "        print(\"cannot be concatenated\")\n",
    "    else:\n",
    "        return np.concatenate((arr1,arr2),axis=1)\n",
    "arr1=np.arange(12).reshape(6,2)\n",
    "arr2=np.arange(12,30).reshape(6,3)\n",
    "add(arr1,arr2)"
   ]
  },
  {
   "cell_type": "code",
   "execution_count": 9,
   "id": "8fb87e3a-a0b5-4c1e-bd5b-67fbc1c3726f",
   "metadata": {},
   "outputs": [
    {
     "data": {
      "text/plain": [
       "(6, 2)"
      ]
     },
     "execution_count": 9,
     "metadata": {},
     "output_type": "execute_result"
    }
   ],
   "source": [
    "arr1.shape"
   ]
  },
  {
   "cell_type": "code",
   "execution_count": 10,
   "id": "268cadfc-67d5-4782-aed5-80d5bda654a1",
   "metadata": {},
   "outputs": [
    {
     "data": {
      "text/plain": [
       "6"
      ]
     },
     "execution_count": 10,
     "metadata": {},
     "output_type": "execute_result"
    }
   ],
   "source": [
    "arr1.shape[0]"
   ]
  },
  {
   "cell_type": "code",
   "execution_count": null,
   "id": "cd8387f2-5082-46fa-9b07-4db3cb0f577c",
   "metadata": {},
   "outputs": [],
   "source": []
  }
 ],
 "metadata": {
  "kernelspec": {
   "display_name": "Python 3 (ipykernel)",
   "language": "python",
   "name": "python3"
  },
  "language_info": {
   "codemirror_mode": {
    "name": "ipython",
    "version": 3
   },
   "file_extension": ".py",
   "mimetype": "text/x-python",
   "name": "python",
   "nbconvert_exporter": "python",
   "pygments_lexer": "ipython3",
   "version": "3.10.8"
  }
 },
 "nbformat": 4,
 "nbformat_minor": 5
}
