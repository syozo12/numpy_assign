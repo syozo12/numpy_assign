{
 "cells": [
  {
   "cell_type": "code",
   "execution_count": 3,
   "id": "a78f2939-92cf-4947-8eb0-3b784d3e02e3",
   "metadata": {},
   "outputs": [
    {
     "data": {
      "text/plain": [
       "array([[1, 2, 5, 6],\n",
       "       [3, 4, 7, 8]])"
      ]
     },
     "execution_count": 3,
     "metadata": {},
     "output_type": "execute_result"
    }
   ],
   "source": [
    "\"\"\"8. Write a function that concatenates two given \n",
    "arrays along a specified axis.\n",
    " array1 = np.array([[1, 2], [3, 4]]) ",
    "\n",
    " array2 = np.array([[5, 6], [7, 8]])\"\"\"\n",
    "import numpy as np\n",
    "def add(axis):\n",
    "    return np.concatenate((array1,array2),axis=axis)\n",
    "array1 = np.array([[1, 2], [3, 4]])\n",
    "array2 = np.array([[5, 6], [7, 8]])\n",
    "axis=1\n",
    "add(axis)"
   ]
  },
  {
   "cell_type": "code",
   "execution_count": null,
   "id": "66600b75-fd53-49f3-8400-1420ef64cc9c",
   "metadata": {},
   "outputs": [],
   "source": []
  }
 ],
 "metadata": {
  "kernelspec": {
   "display_name": "Python 3 (ipykernel)",
   "language": "python",
   "name": "python3"
  },
  "language_info": {
   "codemirror_mode": {
    "name": "ipython",
    "version": 3
   },
   "file_extension": ".py",
   "mimetype": "text/x-python",
   "name": "python",
   "nbconvert_exporter": "python",
   "pygments_lexer": "ipython3",
   "version": "3.10.8"
  }
 },
 "nbformat": 4,
 "nbformat_minor": 5
}
