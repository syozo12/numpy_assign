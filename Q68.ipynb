{
 "cells": [
  {
   "cell_type": "code",
   "execution_count": 1,
   "id": "5cba523b-8749-477a-af37-534faa3e858a",
   "metadata": {},
   "outputs": [
    {
     "name": "stdout",
     "output_type": "stream",
     "text": [
      "[25 42 30]\n"
     ]
    }
   ],
   "source": [
    "# Filter elements >20  in the given NumPy array.\n",
    "# arr = np.array([12, 25, 6, 42, 8, 30])\n",
    "import numpy as np\n",
    "arr = np.array([12, 25, 6, 42, 8, 30])\n",
    "print(arr[arr>20])\n"
   ]
  },
  {
   "cell_type": "code",
   "execution_count": null,
   "id": "b759cf5f-bbe3-433b-9aa5-c6afd89a3a70",
   "metadata": {},
   "outputs": [],
   "source": []
  }
 ],
 "metadata": {
  "kernelspec": {
   "display_name": "Python 3 (ipykernel)",
   "language": "python",
   "name": "python3"
  },
  "language_info": {
   "codemirror_mode": {
    "name": "ipython",
    "version": 3
   },
   "file_extension": ".py",
   "mimetype": "text/x-python",
   "name": "python",
   "nbconvert_exporter": "python",
   "pygments_lexer": "ipython3",
   "version": "3.10.8"
  }
 },
 "nbformat": 4,
 "nbformat_minor": 5
}
