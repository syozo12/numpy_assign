{
 "cells": [
  {
   "cell_type": "code",
   "execution_count": 4,
   "id": "f3348110-b877-439f-861e-fcd20015e6a1",
   "metadata": {},
   "outputs": [
    {
     "data": {
      "text/plain": [
       "3"
      ]
     },
     "execution_count": 4,
     "metadata": {},
     "output_type": "execute_result"
    }
   ],
   "source": [
    "\"\"\"Write a function that counts the occurrences of a \n",
    "specific substring within a NumPy array of strings.\n",
    " arr = np.array(['hello', 'world', 'hello', 'numpy', \n",
    " 'hello'])\"\"\"\n",
    "import numpy as np\n",
    "def count(arr,strg):\n",
    "    word=np.char.lower(strg)\n",
    "    #a: An array-like object \n",
    "##(e.g., NumPy array, list, or tuple) containing strings.\n",
    "    array=np.char.lower(arr)\n",
    "    if word in array:\n",
    "        return np.sum(np.char.count(word,array))\n",
    "    else:\n",
    "        return \"string is not present\"\n",
    "arr = np.array(['hello', 'world', 'hello', 'numpy','hello'])\n",
    "strg=\"hello\"\n",
    "count(arr,strg)"
   ]
  },
  {
   "cell_type": "code",
   "execution_count": 3,
   "id": "5e75129a-c662-46d9-869a-fcf74b37d30c",
   "metadata": {},
   "outputs": [
    {
     "data": {
      "text/plain": [
       "array([1, 0, 1])"
      ]
     },
     "execution_count": 3,
     "metadata": {},
     "output_type": "execute_result"
    }
   ],
   "source": [
    "arr = np.array(['hello', 'world', 'hello'])\n",
    "np.char.lower(arr)\n",
    "np.char.count(arr,\"hello\")\n",
    "#np.sum(p)\n",
    "    "
   ]
  },
  {
   "cell_type": "code",
   "execution_count": null,
   "id": "50342a6f-700f-49e6-903e-b3a9b34cf839",
   "metadata": {},
   "outputs": [],
   "source": []
  }
 ],
 "metadata": {
  "kernelspec": {
   "display_name": "Python 3 (ipykernel)",
   "language": "python",
   "name": "python3"
  },
  "language_info": {
   "codemirror_mode": {
    "name": "ipython",
    "version": 3
   },
   "file_extension": ".py",
   "mimetype": "text/x-python",
   "name": "python",
   "nbconvert_exporter": "python",
   "pygments_lexer": "ipython3",
   "version": "3.10.8"
  }
 },
 "nbformat": 4,
 "nbformat_minor": 5
}
