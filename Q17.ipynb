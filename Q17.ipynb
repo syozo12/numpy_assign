{
 "cells": [
  {
   "cell_type": "code",
   "execution_count": 3,
   "id": "476eb197-8f05-4931-a933-dc28335ad8f7",
   "metadata": {},
   "outputs": [
    {
     "data": {
      "text/plain": [
       "'Create a NumPy array and demonstrate the use of \\n`numpy.view` to create a new array object with the \\nsame data.'"
      ]
     },
     "execution_count": 3,
     "metadata": {},
     "output_type": "execute_result"
    }
   ],
   "source": [
    "\"\"\"Create a NumPy array and demonstrate the use of \n",
    "`numpy.view` to create a new array object with the \n",
    "same data.\"\"\""
   ]
  },
  {
   "cell_type": "code",
   "execution_count": 2,
   "id": "4662c8eb-94ab-4523-a4d7-9d45db821fa4",
   "metadata": {},
   "outputs": [
    {
     "name": "stdout",
     "output_type": "stream",
     "text": [
      "the new array is [1 2 3 4]\n",
      "after modification\n"
     ]
    },
    {
     "data": {
      "text/plain": [
       "(array([1, 9, 3, 4]), array([1, 9, 3, 4]))"
      ]
     },
     "execution_count": 2,
     "metadata": {},
     "output_type": "execute_result"
    }
   ],
   "source": [
    "import numpy as np\n",
    "def create(arr):\n",
    "    new=arr.view()\n",
    "    print(\"the new array is\",new)\n",
    "    new[1]=9\n",
    "    print(\"after modification\")\n",
    "    return arr,new\n",
    "arr=np.array([1,2,3,4])\n",
    "create(arr)\n",
    "\n"
   ]
  },
  {
   "cell_type": "code",
   "execution_count": null,
   "id": "383aa51e-2214-45b2-8bec-c1fc61e1ed6c",
   "metadata": {},
   "outputs": [],
   "source": []
  }
 ],
 "metadata": {
  "kernelspec": {
   "display_name": "Python 3 (ipykernel)",
   "language": "python",
   "name": "python3"
  },
  "language_info": {
   "codemirror_mode": {
    "name": "ipython",
    "version": 3
   },
   "file_extension": ".py",
   "mimetype": "text/x-python",
   "name": "python",
   "nbconvert_exporter": "python",
   "pygments_lexer": "ipython3",
   "version": "3.10.8"
  }
 },
 "nbformat": 4,
 "nbformat_minor": 5
}
