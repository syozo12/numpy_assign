{
 "cells": [
  {
   "cell_type": "code",
   "execution_count": 5,
   "id": "b793b3c5-c223-4992-9dd2-a1cc68917225",
   "metadata": {},
   "outputs": [
    {
     "name": "stdin",
     "output_type": "stream",
     "text": [
      "enter the starting value: 4\n",
      "enter the ending value: 8\n",
      "enter the step value: 1\n"
     ]
    },
    {
     "data": {
      "text/plain": [
       "array([4, 5, 6, 7])"
      ]
     },
     "execution_count": 5,
     "metadata": {},
     "output_type": "execute_result"
    }
   ],
   "source": [
    "\"\"\"Write a function `generate_range_array` that takes three integers start, \n",
    "stop, and step as arguments and creates a NumPy array with a range starting \n",
    "from `start`, ending at stop (exclusive), and with the specified `step`.\"\"\"\n",
    "import numpy as np\n",
    "def generate_range_array(start,stop,step):\n",
    "    arr=np.arange(start,stop,step,dtype=int)#np.ones(shape, dtype=None, order='C').\n",
    "    return arr\n",
    "start=int(input(\"enter the starting value:\"))\n",
    "stop=int(input(\"enter the ending value:\"))\n",
    "step=int(input(\"enter the step value:\"))\n",
    "generate_range_array(start,stop,step)"
   ]
  },
  {
   "cell_type": "code",
   "execution_count": null,
   "id": "f9947cf1-df6f-498f-8980-a1c8812b87d8",
   "metadata": {},
   "outputs": [],
   "source": []
  }
 ],
 "metadata": {
  "kernelspec": {
   "display_name": "Python 3 (ipykernel)",
   "language": "python",
   "name": "python3"
  },
  "language_info": {
   "codemirror_mode": {
    "name": "ipython",
    "version": 3
   },
   "file_extension": ".py",
   "mimetype": "text/x-python",
   "name": "python",
   "nbconvert_exporter": "python",
   "pygments_lexer": "ipython3",
   "version": "3.10.8"
  }
 },
 "nbformat": 4,
 "nbformat_minor": 5
}
