{
 "cells": [
  {
   "cell_type": "code",
   "execution_count": 2,
   "id": "ff083569-75ac-4559-ab7c-a6109a7c1e66",
   "metadata": {},
   "outputs": [
    {
     "name": "stdout",
     "output_type": "stream",
     "text": [
      "[[ 1  2 34]]\n",
      "[[ 5]\n",
      " [ 6]\n",
      " [78]]\n"
     ]
    },
    {
     "data": {
      "text/plain": [
       "matrix([[2669]])"
      ]
     },
     "execution_count": 2,
     "metadata": {},
     "output_type": "execute_result"
    }
   ],
   "source": [
    "\"\"\" Create two matrices and perform matrix \n",
    "multiplication using NumPy's `dot` function.\"\"\"\n",
    "import numpy as np\n",
    "matrix1=np.matrix([1,2,34])\n",
    "matrix2=np.matrix([5,6,78]).reshape(3,1)\n",
    "print(matrix1)\n",
    "print(matrix2)\n",
    "np.dot(matrix1,matrix2)\n"
   ]
  },
  {
   "cell_type": "code",
   "execution_count": null,
   "id": "84e44324-a9a4-44b3-966e-0df38dbaad8d",
   "metadata": {},
   "outputs": [],
   "source": []
  }
 ],
 "metadata": {
  "kernelspec": {
   "display_name": "Python 3 (ipykernel)",
   "language": "python",
   "name": "python3"
  },
  "language_info": {
   "codemirror_mode": {
    "name": "ipython",
    "version": 3
   },
   "file_extension": ".py",
   "mimetype": "text/x-python",
   "name": "python",
   "nbconvert_exporter": "python",
   "pygments_lexer": "ipython3",
   "version": "3.10.8"
  }
 },
 "nbformat": 4,
 "nbformat_minor": 5
}
