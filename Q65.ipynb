{
 "cells": [
  {
   "cell_type": "code",
   "execution_count": 4,
   "id": "ec4f237b-0705-4e54-97c3-2155b98ce212",
   "metadata": {},
   "outputs": [
    {
     "name": "stdout",
     "output_type": "stream",
     "text": [
      "10th percentile: 168.4\n",
      "Median (50th percentile): 522.0\n",
      "90th percentile: 868.0000000000001\n",
      "First quartile (25th percentile): 266.0\n",
      "Third quartile (75th percentile): 775.75\n"
     ]
    }
   ],
   "source": [
    "\"\"\"Create an array of 50 integers between 10 and 1000.\n",
    "Calculate the 10th, 50th (median), and 90th \n",
    "percentiles along with the first and third quartiles.\"\"\"\n",
    "import numpy as np\n",
    "random_integers=np.random.randint(10,1001,size=(1,50))\n",
    "percentile_10 = np.percentile(random_integers, 10)\n",
    "percentile_50 = np.percentile(random_integers, 50)  # Median\n",
    "percentile_90 = np.percentile(random_integers, 90)\n",
    "first_quartile = np.percentile(random_integers, 25)\n",
    "third_quartile = np.percentile(random_integers, 75)\n",
    "print(f\"10th percentile: {percentile_10:}\")\n",
    "print(f\"Median (50th percentile): {percentile_50:}\")\n",
    "print(f\"90th percentile: {percentile_90:}\")\n",
    "print(f\"First quartile (25th percentile): {first_quartile:}\")\n",
    "print(f\"Third quartile (75th percentile): {third_quartile:}\")"
   ]
  },
  {
   "cell_type": "code",
   "execution_count": null,
   "id": "b0b65c93-63ab-461e-b5cb-fb2c46075edf",
   "metadata": {},
   "outputs": [],
   "source": []
  }
 ],
 "metadata": {
  "kernelspec": {
   "display_name": "Python 3 (ipykernel)",
   "language": "python",
   "name": "python3"
  },
  "language_info": {
   "codemirror_mode": {
    "name": "ipython",
    "version": 3
   },
   "file_extension": ".py",
   "mimetype": "text/x-python",
   "name": "python",
   "nbconvert_exporter": "python",
   "pygments_lexer": "ipython3",
   "version": "3.10.8"
  }
 },
 "nbformat": 4,
 "nbformat_minor": 5
}
