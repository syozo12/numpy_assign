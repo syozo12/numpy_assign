{
 "cells": [
  {
   "cell_type": "code",
   "execution_count": 3,
   "id": "a1b9b46a-08aa-43b3-a5bb-17936366d32a",
   "metadata": {},
   "outputs": [
    {
     "data": {
      "text/plain": [
       "array([[1, 2],\n",
       "       [3, 4],\n",
       "       [5, 6]])"
      ]
     },
     "execution_count": 3,
     "metadata": {},
     "output_type": "execute_result"
    }
   ],
   "source": [
    "\"\"\". Given a NumPy array arr, reshape it into a matrix \n",
    "of dimensions `m` rows and `n` columns. Return the \n",
    "reshaped matrix.\n",
    " original_array = np.array([1, 2, 3, 4, 5, 6])\"\"\"\n",
    "import numpy as np\n",
    "def reshape(m,n):\n",
    "    return original_array.reshape(m,n)\n",
    "original_array = np.array([1, 2, 3, 4, 5, 6])\n",
    "reshape(3,2)"
   ]
  },
  {
   "cell_type": "code",
   "execution_count": null,
   "id": "d64951ce-e6c4-45c7-8409-55e81e5f7cd9",
   "metadata": {},
   "outputs": [],
   "source": []
  }
 ],
 "metadata": {
  "kernelspec": {
   "display_name": "Python 3 (ipykernel)",
   "language": "python",
   "name": "python3"
  },
  "language_info": {
   "codemirror_mode": {
    "name": "ipython",
    "version": 3
   },
   "file_extension": ".py",
   "mimetype": "text/x-python",
   "name": "python",
   "nbconvert_exporter": "python",
   "pygments_lexer": "ipython3",
   "version": "3.10.8"
  }
 },
 "nbformat": 4,
 "nbformat_minor": 5
}
