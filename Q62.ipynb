{
 "cells": [
  {
   "cell_type": "code",
   "execution_count": 3,
   "id": "716b33c8-06ff-4400-b3b1-bb4903f44ed7",
   "metadata": {},
   "outputs": [
    {
     "name": "stdout",
     "output_type": "stream",
     "text": [
      "the data set is \n",
      " [[64 56  7 70 15 94 34 11 98 12 48 99 10 49 43 20 70 19 95 43 15 84 39 52\n",
      "  46 37 24 39 23 67 84 94 97 38 97 87 63 45 58 15  8 38 19 75 91  2 54 73\n",
      "  73 83]]\n",
      "the 25th percentile is 23.25\n",
      "the 75th percentile is 74.5\n"
     ]
    }
   ],
   "source": [
    "\"\"\" Generate an array of 50 random numbers between \n",
    "1 and 100. Find the 25th and 75th percentiles of the \n",
    "dataset.\"\"\"\n",
    "import numpy as np\n",
    "import random \n",
    "data_set=np.random.randint(1,101,size=(1,50))\n",
    "a=np.percentile(data_set,25)\n",
    "b=np.percentile(data_set,75)\n",
    "print(f\"the data set is \\n {data_set}\")\n",
    "print(f\"the 25th percentile is {a}\")\n",
    "print(f\"the 75th percentile is {b}\")\n"
   ]
  },
  {
   "cell_type": "code",
   "execution_count": null,
   "id": "4bcf3187-93d3-48ab-b100-ac5014de1b0e",
   "metadata": {},
   "outputs": [],
   "source": []
  }
 ],
 "metadata": {
  "kernelspec": {
   "display_name": "Python 3 (ipykernel)",
   "language": "python",
   "name": "python3"
  },
  "language_info": {
   "codemirror_mode": {
    "name": "ipython",
    "version": 3
   },
   "file_extension": ".py",
   "mimetype": "text/x-python",
   "name": "python",
   "nbconvert_exporter": "python",
   "pygments_lexer": "ipython3",
   "version": "3.10.8"
  }
 },
 "nbformat": 4,
 "nbformat_minor": 5
}
