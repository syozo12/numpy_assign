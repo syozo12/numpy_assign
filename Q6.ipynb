{
 "cells": [
  {
   "cell_type": "code",
   "execution_count": 2,
   "id": "dd24a0df-d456-4891-a1ca-fede6d97c22b",
   "metadata": {},
   "outputs": [
    {
     "name": "stdout",
     "output_type": "stream",
     "text": [
      "the shape is (1, 4, 3)\n",
      "size: 12\n",
      "type: int64\n"
     ]
    }
   ],
   "source": [
    "\"\"\". Write a function . Write a function array_attributes \n",
    "that takes a NumPy\n",
    "array as input and returns its shape, size, and data \n",
    "type\"\"\"\n",
    "import numpy as np\n",
    "def array_attributes(arr):\n",
    "    \n",
    "    return np.shape(arr),np.size(arr),arr.dtype\n",
    "arr=np.arange(0,12).reshape(1,4,3)\n",
    "shape,size,dtype=array_attributes(arr)\n",
    "print(\"the shape is\",shape)\n",
    "print(\"size:\",size)\n",
    "print(\"type:\",dtype)\n"
   ]
  },
  {
   "cell_type": "code",
   "execution_count": 4,
   "id": "a450f6d3-d2f2-482a-a6dc-c6406de4c1d5",
   "metadata": {},
   "outputs": [
    {
     "ename": "TypeError",
     "evalue": "Cannot construct a dtype from an array",
     "output_type": "error",
     "traceback": [
      "\u001b[0;31m---------------------------------------------------------------------------\u001b[0m",
      "\u001b[0;31mTypeError\u001b[0m                                 Traceback (most recent call last)",
      "Cell \u001b[0;32mIn[4], line 2\u001b[0m\n\u001b[1;32m      1\u001b[0m arr\u001b[38;5;241m=\u001b[39mnp\u001b[38;5;241m.\u001b[39marange(\u001b[38;5;241m0\u001b[39m,\u001b[38;5;241m12\u001b[39m)\u001b[38;5;241m.\u001b[39mreshape(\u001b[38;5;241m1\u001b[39m,\u001b[38;5;241m4\u001b[39m,\u001b[38;5;241m3\u001b[39m)\n\u001b[0;32m----> 2\u001b[0m \u001b[43mnp\u001b[49m\u001b[38;5;241;43m.\u001b[39;49m\u001b[43mdtype\u001b[49m\u001b[43m(\u001b[49m\u001b[43marr\u001b[49m\u001b[43m)\u001b[49m\n",
      "\u001b[0;31mTypeError\u001b[0m: Cannot construct a dtype from an array"
     ]
    }
   ],
   "source": [
    "arr=np.arange(0,12).reshape(1,4,3)\n",
    "np.dtype(arr)"
   ]
  },
  {
   "cell_type": "code",
   "execution_count": null,
   "id": "aebd69e4-1dcd-4b70-9b52-bc7c1129ac2f",
   "metadata": {},
   "outputs": [],
   "source": []
  }
 ],
 "metadata": {
  "kernelspec": {
   "display_name": "Python 3 (ipykernel)",
   "language": "python",
   "name": "python3"
  },
  "language_info": {
   "codemirror_mode": {
    "name": "ipython",
    "version": 3
   },
   "file_extension": ".py",
   "mimetype": "text/x-python",
   "name": "python",
   "nbconvert_exporter": "python",
   "pygments_lexer": "ipython3",
   "version": "3.10.8"
  }
 },
 "nbformat": 4,
 "nbformat_minor": 5
}
