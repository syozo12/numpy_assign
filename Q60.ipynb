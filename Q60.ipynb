{
 "cells": [
  {
   "cell_type": "code",
   "execution_count": 8,
   "id": "fc501588-a72b-4a76-a639-564a9cfb6599",
   "metadata": {},
   "outputs": [
    {
     "name": "stdout",
     "output_type": "stream",
     "text": [
      "the lenght of the longest string is 9\n",
      " \n",
      "the string is pineapple\n"
     ]
    }
   ],
   "source": [
    "\"\"\". Write a function that finds the length of the \n",
    "longest string in a NumPy array.\n",
    " arr = np.array(['apple', 'banana', 'grape', 'pineapple'])\n",
    " arr = np.array(['apple', 'banana', 'grape', 'pineapple'])\n",
    " \"\"\"\n",
    "import numpy as np\n",
    "def longest_string(arr):\n",
    "    count=0\n",
    "    for i in arr:\n",
    "        if len(i)>count:\n",
    "            count=len(i)\n",
    "            string=i\n",
    "    return f\"the lenght of the longest string is {count}\\n\",f\"\\nthe string is {string}\"\n",
    "arr = np.array(['apple', 'banana', 'grape', 'pineapple'])\n",
    "result=longest_string(arr)\n",
    "print(*result)#unpacking the tuplee"
   ]
  },
  {
   "cell_type": "code",
   "execution_count": null,
   "id": "6f3febb3-0ad7-4faf-8c25-cf98b44c389f",
   "metadata": {},
   "outputs": [],
   "source": []
  }
 ],
 "metadata": {
  "kernelspec": {
   "display_name": "Python 3 (ipykernel)",
   "language": "python",
   "name": "python3"
  },
  "language_info": {
   "codemirror_mode": {
    "name": "ipython",
    "version": 3
   },
   "file_extension": ".py",
   "mimetype": "text/x-python",
   "name": "python",
   "nbconvert_exporter": "python",
   "pygments_lexer": "ipython3",
   "version": "3.10.8"
  }
 },
 "nbformat": 4,
 "nbformat_minor": 5
}
