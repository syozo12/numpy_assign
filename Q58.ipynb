{
 "cells": [
  {
   "cell_type": "code",
   "execution_count": 1,
   "id": "f743a7c8-5463-4760-9f0a-5df19a4ded60",
   "metadata": {},
   "outputs": [
    {
     "data": {
      "text/plain": [
       "array(['ll', 'll', 'my', 'name'], dtype='<U4')"
      ]
     },
     "execution_count": 1,
     "metadata": {},
     "output_type": "execute_result"
    }
   ],
   "source": [
    "\"\"\"Write a function that replaces occurrences of a \n",
    "substring in a NumPy array of strings with a new string.\n",
    " arr = np.array(['apple', 'banana', 'grape', 'pineapple'])\"\"\"\n",
    "import numpy as np\n",
    "def count(arr,s,new_s):\n",
    "    if s in arr:\n",
    "        return np.char.replace(arr,s,new_s)\n",
    "    else:\n",
    "        return \"string not found\"\n",
    "arr=np.array([\"hello\",\"hello\",\"my\",\"name\"])\n",
    "s=\"hello\"\n",
    "new_s=\"ll\"\n",
    "count(arr,s,new_s)\n",
    "        "
   ]
  },
  {
   "cell_type": "code",
   "execution_count": null,
   "id": "3ec4358f-4863-4aaf-a440-babd56f1866a",
   "metadata": {},
   "outputs": [],
   "source": []
  }
 ],
 "metadata": {
  "kernelspec": {
   "display_name": "Python 3 (ipykernel)",
   "language": "python",
   "name": "python3"
  },
  "language_info": {
   "codemirror_mode": {
    "name": "ipython",
    "version": 3
   },
   "file_extension": ".py",
   "mimetype": "text/x-python",
   "name": "python",
   "nbconvert_exporter": "python",
   "pygments_lexer": "ipython3",
   "version": "3.10.8"
  }
 },
 "nbformat": 4,
 "nbformat_minor": 5
}
