{
 "cells": [
  {
   "cell_type": "code",
   "execution_count": 3,
   "id": "e0d2f7d2-b0c8-4362-aa89-d1eb6897f6ff",
   "metadata": {},
   "outputs": [
    {
     "name": "stdout",
     "output_type": "stream",
     "text": [
      "Original DataFrame:\n",
      "    A  B\n",
      "0  10  7\n",
      "1  -5  2\n",
      "2   8 -1\n",
      "3  -3  6\n",
      "4  12 -4\n",
      "\n",
      "DataFrame with negatives replaced by zeros:\n",
      "    A  B\n",
      "0  10  7\n",
      "1   0  2\n",
      "2   8 -1\n",
      "3   0  6\n",
      "4  12 -4\n"
     ]
    }
   ],
   "source": [
    "\"\"\"Write a function that takes a Pandas DataFrame and replaces all negative\n",
    "values in a specific column \n",
    "with zeros. Use NumPy operations within the Pandas DataFrame\"\"\"\n",
    "import pandas as pd\n",
    "import numpy as np\n",
    "\n",
    "def replace_negatives_with_zeros(df, column_name):\n",
    "    \n",
    "    # Create a copy of the original DataFrame to avoid modifying it directly\n",
    "    new_df = df.copy()\n",
    "\n",
    "    # Replace negative values in the specified column with zeros\n",
    "    new_df[column_name] = np.maximum(new_df[column_name], 0)\n",
    "\n",
    "    return new_df\n",
    "\n",
    "# Example usage:\n",
    "data = {'A': [10, -5, 8, -3, 12],\n",
    "        'B': [7, 2, -1, 6, -4]}\n",
    "df = pd.DataFrame(data)\n",
    "\n",
    "# Replace negatives in column 'A' with zeros\n",
    "result_df = replace_negatives_with_zeros(df, column_name='A')\n",
    "\n",
    "print(\"Original DataFrame:\")\n",
    "print(df)\n",
    "print(\"\\nDataFrame with negatives replaced by zeros:\")\n",
    "print(result_df)"
   ]
  },
  {
   "cell_type": "code",
   "execution_count": null,
   "id": "735a2777-41fe-457c-9f02-e86af508514e",
   "metadata": {},
   "outputs": [],
   "source": []
  }
 ],
 "metadata": {
  "kernelspec": {
   "display_name": "Python 3 (ipykernel)",
   "language": "python",
   "name": "python3"
  },
  "language_info": {
   "codemirror_mode": {
    "name": "ipython",
    "version": 3
   },
   "file_extension": ".py",
   "mimetype": "text/x-python",
   "name": "python",
   "nbconvert_exporter": "python",
   "pygments_lexer": "ipython3",
   "version": "3.10.8"
  }
 },
 "nbformat": 4,
 "nbformat_minor": 5
}
