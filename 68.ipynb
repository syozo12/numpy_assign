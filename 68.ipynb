{
 "cells": [
  {
   "cell_type": "code",
   "execution_count": 2,
   "id": "0c050b70-f5d8-4a9d-9980-8d23c63cbaf3",
   "metadata": {},
   "outputs": [
    {
     "name": "stdout",
     "output_type": "stream",
     "text": [
      "25\n",
      "42\n",
      "30\n"
     ]
    }
   ],
   "source": [
    "\"\"\"8. Filter elements >20  in the given NumPy array.\n",
    " arr = np.array([12, 25, 6, 42, 8, 30])\"\"\"\n",
    "import numpy as np\n",
    "arr = np.array([12, 25, 6, 42, 8, 30])\n",
    "for i in arr:\n",
    "    if i>20:\n",
    "        print(i)"
   ]
  },
  {
   "cell_type": "code",
   "execution_count": null,
   "id": "43c8a5fa-14db-4135-bde2-f95e5cf580ef",
   "metadata": {},
   "outputs": [],
   "source": []
  }
 ],
 "metadata": {
  "kernelspec": {
   "display_name": "Python 3 (ipykernel)",
   "language": "python",
   "name": "python3"
  },
  "language_info": {
   "codemirror_mode": {
    "name": "ipython",
    "version": 3
   },
   "file_extension": ".py",
   "mimetype": "text/x-python",
   "name": "python",
   "nbconvert_exporter": "python",
   "pygments_lexer": "ipython3",
   "version": "3.10.8"
  }
 },
 "nbformat": 4,
 "nbformat_minor": 5
}
