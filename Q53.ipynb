{
 "cells": [
  {
   "cell_type": "code",
   "execution_count": 3,
   "id": "3f70d681-dd0c-4b22-ade5-8f0e2bed1ed2",
   "metadata": {},
   "outputs": [
    {
     "name": "stdout",
     "output_type": "stream",
     "text": [
      "[[80 48 73 58 61]] [[1 2 3 4 5]]\n",
      "[[ 80  96 219 232 305]]\n"
     ]
    }
   ],
   "source": [
    "\"\"\" Create a NumPy array `arr1` with random integers and \n",
    "another array `arr2` with integers from 1 to 5. \n",
    "Perform element-wise multiplication between `arr1` and \n",
    "`arr2`\"\"\"\n",
    "import numpy as np\n",
    "arr1=np.random.randint(1,100,size=(1,5))\n",
    "arr2=np.arange(1,6).reshape(1,5)\n",
    "print(arr1,arr2)\n",
    "print(arr1*arr2)"
   ]
  },
  {
   "cell_type": "code",
   "execution_count": null,
   "id": "48756ec4-514c-4ff8-bed2-621feb9ed0ad",
   "metadata": {},
   "outputs": [],
   "source": []
  }
 ],
 "metadata": {
  "kernelspec": {
   "display_name": "Python 3 (ipykernel)",
   "language": "python",
   "name": "python3"
  },
  "language_info": {
   "codemirror_mode": {
    "name": "ipython",
    "version": 3
   },
   "file_extension": ".py",
   "mimetype": "text/x-python",
   "name": "python",
   "nbconvert_exporter": "python",
   "pygments_lexer": "ipython3",
   "version": "3.10.8"
  }
 },
 "nbformat": 4,
 "nbformat_minor": 5
}
