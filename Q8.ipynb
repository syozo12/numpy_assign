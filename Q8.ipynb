{
 "cells": [
  {
   "cell_type": "code",
   "execution_count": 6,
   "id": "69f3e6fb-c81b-4765-941a-73c3427757d8",
   "metadata": {},
   "outputs": [
    {
     "name": "stdout",
     "output_type": "stream",
     "text": [
      "[[0 1 2]\n",
      " [3 4 5]\n",
      " [6 7 8]]\n",
      "item size is  8\n",
      "total size is  72\n"
     ]
    }
   ],
   "source": [
    "\"\"\"8. Design a function item_size_info that takes a NumPy \n",
    "array as\n",
    "input and returns the item size and total size in bytes.\"\"\"\n",
    "import numpy as np\n",
    "def item_size_info(arr):\n",
    "    return arr.itemsize,arr.nbytes\n",
    "arr=np.arange(9).reshape(3,3)\n",
    "print(arr)\n",
    "item_size,total_size=item_size_info(arr)\n",
    "print(\"item size is \",item_size)\n",
    "print(\"total size is \",total_size)"
   ]
  },
  {
   "cell_type": "code",
   "execution_count": null,
   "id": "204782d0-aad2-4b27-a26a-47641a41d908",
   "metadata": {},
   "outputs": [],
   "source": []
  }
 ],
 "metadata": {
  "kernelspec": {
   "display_name": "Python 3 (ipykernel)",
   "language": "python",
   "name": "python3"
  },
  "language_info": {
   "codemirror_mode": {
    "name": "ipython",
    "version": 3
   },
   "file_extension": ".py",
   "mimetype": "text/x-python",
   "name": "python",
   "nbconvert_exporter": "python",
   "pygments_lexer": "ipython3",
   "version": "3.10.8"
  }
 },
 "nbformat": 4,
 "nbformat_minor": 5
}
