{
 "cells": [
  {
   "cell_type": "code",
   "execution_count": 5,
   "id": "7905e36f-abc4-41bb-8797-a8f70ca417a9",
   "metadata": {},
   "outputs": [
    {
     "data": {
      "text/plain": [
       "(array([2, 4]),)"
      ]
     },
     "execution_count": 5,
     "metadata": {},
     "output_type": "execute_result"
    }
   ],
   "source": [
    "#Create a NumPy array of integers and find the index of a specific element\n",
    "import numpy as np\n",
    "arr=np.array([1,2,3,4,3])\n",
    "np.where(arr==3)"
   ]
  },
  {
   "cell_type": "code",
   "execution_count": null,
   "id": "ff0f5003-51e5-481c-8dc6-17827248c55f",
   "metadata": {},
   "outputs": [],
   "source": []
  }
 ],
 "metadata": {
  "kernelspec": {
   "display_name": "Python 3 (ipykernel)",
   "language": "python",
   "name": "python3"
  },
  "language_info": {
   "codemirror_mode": {
    "name": "ipython",
    "version": 3
   },
   "file_extension": ".py",
   "mimetype": "text/x-python",
   "name": "python",
   "nbconvert_exporter": "python",
   "pygments_lexer": "ipython3",
   "version": "3.10.8"
  }
 },
 "nbformat": 4,
 "nbformat_minor": 5
}
