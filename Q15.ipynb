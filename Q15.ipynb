{
 "cells": [
  {
   "cell_type": "code",
   "execution_count": null,
   "id": "31abb0fc-23eb-4c20-bacf-009ff8794279",
   "metadata": {},
   "outputs": [],
   "source": [
    "Create a function `create_identity_matrix` that takes an\n",
    "integer `n` as input and generates a square identity\n",
    "matrix of size `n x n` using `numpy.eye`"
   ]
  },
  {
   "cell_type": "code",
   "execution_count": 2,
   "id": "7654afc3-e3f0-4922-8073-562ca5d69ffd",
   "metadata": {},
   "outputs": [
    {
     "name": "stdin",
     "output_type": "stream",
     "text": [
      "enter the value of n 5\n"
     ]
    },
    {
     "data": {
      "text/plain": [
       "array([[1., 0., 0., 0., 0.],\n",
       "       [0., 1., 0., 0., 0.],\n",
       "       [0., 0., 1., 0., 0.],\n",
       "       [0., 0., 0., 1., 0.],\n",
       "       [0., 0., 0., 0., 1.]])"
      ]
     },
     "execution_count": 2,
     "metadata": {},
     "output_type": "execute_result"
    }
   ],
   "source": [
    "import numpy as np\n",
    "def create_identity_matrix(n):\n",
    "    return np.eye(n,n)\n",
    "n=int(input(\"enter the value of n\"))\n",
    "create_identity_matrix(n)\n",
    "    "
   ]
  },
  {
   "cell_type": "code",
   "execution_count": null,
   "id": "0f065906-132e-4b3a-a620-311f44206b03",
   "metadata": {},
   "outputs": [],
   "source": []
  }
 ],
 "metadata": {
  "kernelspec": {
   "display_name": "Python 3 (ipykernel)",
   "language": "python",
   "name": "python3"
  },
  "language_info": {
   "codemirror_mode": {
    "name": "ipython",
    "version": 3
   },
   "file_extension": ".py",
   "mimetype": "text/x-python",
   "name": "python",
   "nbconvert_exporter": "python",
   "pygments_lexer": "ipython3",
   "version": "3.10.8"
  }
 },
 "nbformat": 4,
 "nbformat_minor": 5
}
