{
 "cells": [
  {
   "cell_type": "code",
   "execution_count": 4,
   "id": "e72d4b6a-be43-40f5-a63d-4288d1f047a8",
   "metadata": {},
   "outputs": [
    {
     "data": {
      "text/plain": [
       "0.0"
      ]
     },
     "execution_count": 4,
     "metadata": {},
     "output_type": "execute_result"
    }
   ],
   "source": [
    "\" Generate a square matrix `F` and compute its determinant.\"\n",
    "import numpy as np\n",
    "F=np.array([[1,2,3],[5,6,7],[12,34,56]])\n",
    "np.linalg.det(F)\n"
   ]
  },
  {
   "cell_type": "code",
   "execution_count": null,
   "id": "46231389-9b27-4c01-886e-387fbfcbb3fc",
   "metadata": {},
   "outputs": [],
   "source": []
  }
 ],
 "metadata": {
  "kernelspec": {
   "display_name": "Python 3 (ipykernel)",
   "language": "python",
   "name": "python3"
  },
  "language_info": {
   "codemirror_mode": {
    "name": "ipython",
    "version": 3
   },
   "file_extension": ".py",
   "mimetype": "text/x-python",
   "name": "python",
   "nbconvert_exporter": "python",
   "pygments_lexer": "ipython3",
   "version": "3.10.8"
  }
 },
 "nbformat": 4,
 "nbformat_minor": 5
}
