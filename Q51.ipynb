{
 "cells": [
  {
   "cell_type": "code",
   "execution_count": 22,
   "id": "bbc90eae-9fe5-4b01-981a-5647f7dc970f",
   "metadata": {},
   "outputs": [
    {
     "name": "stdout",
     "output_type": "stream",
     "text": [
      "[[6 2 6 5 7 1 1 7 2 7]]\n",
      "[[ 1  2  3  4  5  6  7  8  9 10]]\n",
      "[[ 7  4  9  9 12  7  8 15 11 17]]\n"
     ]
    }
   ],
   "source": [
    "\"\"\". Create a NumPy array `arr1` with random integers and\n",
    "another array `arr2`with integers from 1 to 10. \n",
    "Perform element-wise addition between `arr1` and `arr2`\"\"\"\n",
    "import numpy as np\n",
    "arr1=np.random.randint(1,10,size=(1,10))\n",
    "print(arr1)\n",
    "arr2=np.arange(1,11).reshape(1,10)\n",
    "print(arr2)\n",
    "print(arr1+arr2)"
   ]
  },
  {
   "cell_type": "code",
   "execution_count": 15,
   "id": "bdde26b5-34af-468c-8502-d09d5dce3c94",
   "metadata": {},
   "outputs": [
    {
     "data": {
      "text/plain": [
       "'arr1=np.random.random(size=(1,10))\\nprint(arr1)\\narr2=np.random.randint(1,10,size=(1,10))\\nprint(arr2)'"
      ]
     },
     "execution_count": 15,
     "metadata": {},
     "output_type": "execute_result"
    }
   ],
   "source": [
    "\"\"\"arr1=np.random.random(size=(1,10))\n",
    "print(arr1)\n",
    "arr2=np.random.randint(1,10,size=(1,10))\n",
    "print(arr2)\"\"\""
   ]
  },
  {
   "cell_type": "code",
   "execution_count": null,
   "id": "34e49a56-7527-4b55-9edc-c5b487221dc7",
   "metadata": {},
   "outputs": [],
   "source": []
  }
 ],
 "metadata": {
  "kernelspec": {
   "display_name": "Python 3 (ipykernel)",
   "language": "python",
   "name": "python3"
  },
  "language_info": {
   "codemirror_mode": {
    "name": "ipython",
    "version": 3
   },
   "file_extension": ".py",
   "mimetype": "text/x-python",
   "name": "python",
   "nbconvert_exporter": "python",
   "pygments_lexer": "ipython3",
   "version": "3.10.8"
  }
 },
 "nbformat": 4,
 "nbformat_minor": 5
}
