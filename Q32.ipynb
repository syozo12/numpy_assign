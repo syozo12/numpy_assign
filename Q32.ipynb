{
 "cells": [
  {
   "cell_type": "code",
   "execution_count": 4,
   "id": "b244e0df-56c3-400c-bc41-e7a4d382dc7c",
   "metadata": {},
   "outputs": [
    {
     "name": "stdin",
     "output_type": "stream",
     "text": [
      "enetr the threshold 11\n"
     ]
    },
    {
     "data": {
      "text/plain": [
       "'no element'"
      ]
     },
     "execution_count": 4,
     "metadata": {},
     "output_type": "execute_result"
    }
   ],
   "source": [
    "\"\"\"Create a NumPy function that filters elements greater\n",
    "than a threshold from a given 1D array using \n",
    "boolean indexing.\"\"\"\n",
    "import numpy as np\n",
    "def filters(arr,threshold):\n",
    "    filtered_array=arr[arr>threshold]\n",
    "    if(np.any(filtered_array)):\n",
    "        return filtered_array\n",
    "    else:\n",
    "        return \"no element\"\n",
    "arr=np.arange(12).reshape(4,3)\n",
    "threshold=int(input(\"enetr the threshold\"))\n",
    "filters(arr,threshold)"
   ]
  },
  {
   "cell_type": "code",
   "execution_count": null,
   "id": "5d4f35ac-2f9d-4319-88e6-241828d6915f",
   "metadata": {},
   "outputs": [],
   "source": []
  }
 ],
 "metadata": {
  "kernelspec": {
   "display_name": "Python 3 (ipykernel)",
   "language": "python",
   "name": "python3"
  },
  "language_info": {
   "codemirror_mode": {
    "name": "ipython",
    "version": 3
   },
   "file_extension": ".py",
   "mimetype": "text/x-python",
   "name": "python",
   "nbconvert_exporter": "python",
   "pygments_lexer": "ipython3",
   "version": "3.10.8"
  }
 },
 "nbformat": 4,
 "nbformat_minor": 5
}
