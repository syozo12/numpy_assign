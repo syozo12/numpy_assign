{
 "cells": [
  {
   "cell_type": "code",
   "execution_count": 3,
   "id": "8356406f-d8f8-4299-9646-f090d796317e",
   "metadata": {},
   "outputs": [
    {
     "name": "stdout",
     "output_type": "stream",
     "text": [
      "Dataset: [[ 851  201   20  286  509  736   84  256  660  235  303  916  716  823\n",
      "   161  386  649  898  468  537  720  853  739  279  282  418  878  729\n",
      "   907   31  155   93  424  472  540  101  185  204  546  633  699  301\n",
      "   170  119 1000  593  927  646  869  206   58  553  302  898  440  236\n",
      "   727  208  537  658  244  598  937  289  328  233  301  456  238  534\n",
      "   333  561  389  257  148  949  980  858  765  635  287  146  130  981\n",
      "   120  866  748    3   80  697  487  852  214  947  757  978  833  977\n",
      "   113  100]]\n",
      "Mean: 493.80\n",
      "Median: 479.50\n",
      "Variance: 88538.66\n",
      "Standard Deviation: 297.55\n"
     ]
    }
   ],
   "source": [
    "\"\"\" Create a dataset of 100 random integers between 1 \n",
    "and 1000. Compute the mean, median, variance, and \n",
    "standard deviation of the dataset using NumPy's functions.\n",
    "\"\"\"\n",
    "import numpy as np\n",
    "import random \n",
    "data_set=np.random.randint(1,1001,size=(1,100))\n",
    "mean_value = np.mean(data_set)\n",
    "median_value = np.median(data_set)\n",
    "variance_value = np.var(data_set)\n",
    "std_deviation_value = np.std(data_set)\n",
    "print(f\"Dataset: {data_set}\")\n",
    "print(f\"Mean: {mean_value:.2f}\")\n",
    "print(f\"Median: {median_value:.2f}\")\n",
    "print(f\"Variance: {variance_value:.2f}\")\n",
    "print(f\"Standard Deviation: {std_deviation_value:.2f}\")\n",
    "\n"
   ]
  },
  {
   "cell_type": "code",
   "execution_count": null,
   "id": "86b4bd7d-af88-42af-93a5-84ef437a3518",
   "metadata": {},
   "outputs": [],
   "source": []
  }
 ],
 "metadata": {
  "kernelspec": {
   "display_name": "Python 3 (ipykernel)",
   "language": "python",
   "name": "python3"
  },
  "language_info": {
   "codemirror_mode": {
    "name": "ipython",
    "version": 3
   },
   "file_extension": ".py",
   "mimetype": "text/x-python",
   "name": "python",
   "nbconvert_exporter": "python",
   "pygments_lexer": "ipython3",
   "version": "3.10.8"
  }
 },
 "nbformat": 4,
 "nbformat_minor": 5
}
