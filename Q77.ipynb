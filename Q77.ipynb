{
 "cells": [
  {
   "cell_type": "code",
   "execution_count": 10,
   "id": "411dc8f0-dad2-4a61-ab68-9f1157194a2c",
   "metadata": {},
   "outputs": [
    {
     "name": "stdout",
     "output_type": "stream",
     "text": [
      "[ 3 78  4]\n",
      "[[ 3 78  4]\n",
      " [ 4  3  6]\n",
      " [ 2  0  7]]\n",
      "yes it is affecting\n"
     ]
    }
   ],
   "source": [
    "\"\"\" Create a 2D NumPy array `matrix` of shape (3, 3) \n",
    "with random integers. Extract a slice `view_slice` from \n",
    "the matrix. Modify an element in `view_slice` and observe \n",
    "if it changes the original `matrix`.\"\"\"\n",
    "import numpy as np\n",
    "matrix=np.random.randint(9,size=(3,3))\n",
    "view_slice=matrix[0,:]\n",
    "view_slice[1]=78\n",
    "\n",
    "print(view_slice)\n",
    "print(matrix)\n",
    "if np.array_equal(matrix[0,:],view_slice):\n",
    "    print(\"yes it is affecting\")\n",
    "else:\n",
    "    print(\"no\")\n",
    "\n"
   ]
  },
  {
   "cell_type": "code",
   "execution_count": null,
   "id": "e9181d7c-b39b-4620-83d2-fee01a298d81",
   "metadata": {},
   "outputs": [],
   "source": []
  }
 ],
 "metadata": {
  "kernelspec": {
   "display_name": "Python 3 (ipykernel)",
   "language": "python",
   "name": "python3"
  },
  "language_info": {
   "codemirror_mode": {
    "name": "ipython",
    "version": 3
   },
   "file_extension": ".py",
   "mimetype": "text/x-python",
   "name": "python",
   "nbconvert_exporter": "python",
   "pygments_lexer": "ipython3",
   "version": "3.10.8"
  }
 },
 "nbformat": 4,
 "nbformat_minor": 5
}
