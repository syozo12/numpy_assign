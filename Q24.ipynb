{
 "cells": [
  {
   "cell_type": "code",
   "execution_count": 1,
   "id": "ea4b3bfd-d748-4609-a2a1-91f823d30625",
   "metadata": {},
   "outputs": [
    {
     "name": "stdout",
     "output_type": "stream",
     "text": [
      "   Column1  Column2  Column3\n",
      "0        2       17       16\n",
      "1       41       15        1\n",
      "2       35       89       45\n",
      "3       21       63       43\n",
      "4       55       78       94\n"
     ]
    }
   ],
   "source": [
    "\"\"\" Create a Pandas DataFrame using a NumPy array that\n",
    "contains 5 rows and 3 columns, where the values \n",
    "are random integers between 1 and 100.\"\"\"\n",
    "import numpy as np\n",
    "import pandas as pd\n",
    "\n",
    "# Generate a 5x3 NumPy array with random integers between 1 and 100\n",
    "random_array = np.random.randint(low=1, high=101, size=(5, 3))\n",
    "\n",
    "# Create a DataFrame from the NumPy array\n",
    "df = pd.DataFrame(random_array, columns=['Column1', 'Column2', 'Column3'])\n",
    "\n",
    "print(df)"
   ]
  },
  {
   "cell_type": "code",
   "execution_count": null,
   "id": "f0ba6838-771f-4f22-bf4d-968f0c8549c8",
   "metadata": {},
   "outputs": [],
   "source": []
  }
 ],
 "metadata": {
  "kernelspec": {
   "display_name": "Python 3 (ipykernel)",
   "language": "python",
   "name": "python3"
  },
  "language_info": {
   "codemirror_mode": {
    "name": "ipython",
    "version": 3
   },
   "file_extension": ".py",
   "mimetype": "text/x-python",
   "name": "python",
   "nbconvert_exporter": "python",
   "pygments_lexer": "ipython3",
   "version": "3.10.8"
  }
 },
 "nbformat": 4,
 "nbformat_minor": 5
}
