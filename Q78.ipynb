{
 "cells": [
  {
   "cell_type": "code",
   "execution_count": 6,
   "id": "4a47738c-ed2e-4eff-87fd-812ebbcb584a",
   "metadata": {},
   "outputs": [
    {
     "name": "stdout",
     "output_type": "stream",
     "text": [
      "[6 7 8]\n",
      "[[ 6  7  8]\n",
      " [ 4  5  6]\n",
      " [ 7  8  9]\n",
      " [10 11 12]]\n",
      "yes it is affecting\n"
     ]
    }
   ],
   "source": [
    "\"\"\"Create a NumPy array `array_a` of shape (4, 3) with \n",
    "sequential integers from 1 to 12. Extract a slice \n",
    "`view_b` from `array_a` and broadcast the addition of\n",
    "\\5 to view_b. Check if it alters the original `array_a`.\"\"\"\n",
    "import numpy as np\n",
    "array_a=np.arange(1,13).reshape(4,3)\n",
    "view_b=array_a[0,:]\n",
    "view_b+=5\n",
    "print(view_b)\n",
    "print(array_a)\n",
    "if np.array_equal(array_a[0,:],view_b):\n",
    "    print(\"yes it is affecting\")\n",
    "else:\n",
    "    print(\"no\")\n"
   ]
  },
  {
   "cell_type": "code",
   "execution_count": null,
   "id": "437419d6-3daa-458e-961b-927ec22e8a10",
   "metadata": {},
   "outputs": [],
   "source": []
  }
 ],
 "metadata": {
  "kernelspec": {
   "display_name": "Python 3 (ipykernel)",
   "language": "python",
   "name": "python3"
  },
  "language_info": {
   "codemirror_mode": {
    "name": "ipython",
    "version": 3
   },
   "file_extension": ".py",
   "mimetype": "text/x-python",
   "name": "python",
   "nbconvert_exporter": "python",
   "pygments_lexer": "ipython3",
   "version": "3.10.8"
  }
 },
 "nbformat": 4,
 "nbformat_minor": 5
}
