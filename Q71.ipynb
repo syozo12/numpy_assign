{
 "cells": [
  {
   "cell_type": "code",
   "execution_count": 2,
   "id": "88c250ae-6bc1-4bca-bc96-aa1151db3202",
   "metadata": {},
   "outputs": [
    {
     "name": "stdout",
     "output_type": "stream",
     "text": [
      "byte order is =\n"
     ]
    }
   ],
   "source": [
    "\"\"\". For the given NumPy array, check its byte order \n",
    "using the `dtype` attribute byteorder.\n",
    " arr = np.array([1, 2, 3])\"\"\"\n",
    "import numpy as np\n",
    "arr = np.array([1, 2, 3])\n",
    "print(\"byte order is\",arr.dtype.byteorder)\n"
   ]
  },
  {
   "cell_type": "code",
   "execution_count": null,
   "id": "b262fb3d-26c0-46b0-9f24-d9a4dd3b9fd3",
   "metadata": {},
   "outputs": [],
   "source": []
  }
 ],
 "metadata": {
  "kernelspec": {
   "display_name": "Python 3 (ipykernel)",
   "language": "python",
   "name": "python3"
  },
  "language_info": {
   "codemirror_mode": {
    "name": "ipython",
    "version": 3
   },
   "file_extension": ".py",
   "mimetype": "text/x-python",
   "name": "python",
   "nbconvert_exporter": "python",
   "pygments_lexer": "ipython3",
   "version": "3.10.8"
  }
 },
 "nbformat": 4,
 "nbformat_minor": 5
}
