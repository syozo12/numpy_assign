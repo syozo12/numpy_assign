{
 "cells": [
  {
   "cell_type": "code",
   "execution_count": 3,
   "id": "ee069bef-491b-47d4-bfb2-6cb1b2aeaffa",
   "metadata": {},
   "outputs": [
    {
     "name": "stdout",
     "output_type": "stream",
     "text": [
      "A is  [[ 0  1  2]\n",
      " [ 3  4  5]\n",
      " [ 6  7  8]\n",
      " [ 9 10 11]]\n",
      "B is [[12 13 14]\n",
      " [15 16 17]\n",
      " [18 19 20]\n",
      " [21 22 23]]\n",
      "A+B \n",
      " [[12 14 16]\n",
      " [18 20 22]\n",
      " [24 26 28]\n",
      " [30 32 34]]\n",
      "A-B [[-12 -12 -12]\n",
      " [-12 -12 -12]\n",
      " [-12 -12 -12]\n",
      " [-12 -12 -12]]\n"
     ]
    }
   ],
   "source": [
    "\"\"\" Create two matrices A and B of identical shape \n",
    "containing integers and perform addition and subtraction \n",
    "operations between them\"\"\"\n",
    "import numpy as np\n",
    "A=np.arange(12).reshape(4,3)\n",
    "B=np.arange(12,24).reshape(4,3)\n",
    "print(\"A is \",A)\n",
    "print(\"B is\",B)\n",
    "print(\"A+B \\n\",A+B)\n",
    "print(\"A-B\",A-B)\n"
   ]
  },
  {
   "cell_type": "code",
   "execution_count": null,
   "id": "70365765-e7c3-4a89-9c83-8b2dc4ee005e",
   "metadata": {},
   "outputs": [],
   "source": []
  }
 ],
 "metadata": {
  "kernelspec": {
   "display_name": "Python 3 (ipykernel)",
   "language": "python",
   "name": "python3"
  },
  "language_info": {
   "codemirror_mode": {
    "name": "ipython",
    "version": 3
   },
   "file_extension": ".py",
   "mimetype": "text/x-python",
   "name": "python",
   "nbconvert_exporter": "python",
   "pygments_lexer": "ipython3",
   "version": "3.10.8"
  }
 },
 "nbformat": 4,
 "nbformat_minor": 5
}
