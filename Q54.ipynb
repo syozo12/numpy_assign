{
 "cells": [
  {
   "cell_type": "code",
   "execution_count": 1,
   "id": "a5f90a02-c62e-404b-aa78-2829f96656b6",
   "metadata": {},
   "outputs": [
    {
     "name": "stdout",
     "output_type": "stream",
     "text": [
      "[ 2  4  6  8 10] [1 2 3 4 5]\n",
      "[2. 2. 2. 2. 2.]\n"
     ]
    }
   ],
   "source": [
    "\"\"\". Generate a NumPy array `arr1` with even integers \n",
    "from 2 to 10 and another array `arr2` with integers from 1 \n",
    "to 5. Perform element-wise division of `arr1` by `arr2`\"\"\"\n",
    "import numpy as np\n",
    "arr1=np.arange(2,11,2)\n",
    "arr2=np.arange(1,6)\n",
    "print(arr1,arr2)\n",
    "print(arr1/arr2)"
   ]
  },
  {
   "cell_type": "code",
   "execution_count": null,
   "id": "d08c86c0-b191-4739-bed4-3b91855b9b6f",
   "metadata": {},
   "outputs": [],
   "source": []
  }
 ],
 "metadata": {
  "kernelspec": {
   "display_name": "Python 3 (ipykernel)",
   "language": "python",
   "name": "python3"
  },
  "language_info": {
   "codemirror_mode": {
    "name": "ipython",
    "version": 3
   },
   "file_extension": ".py",
   "mimetype": "text/x-python",
   "name": "python",
   "nbconvert_exporter": "python",
   "pygments_lexer": "ipython3",
   "version": "3.10.8"
  }
 },
 "nbformat": 4,
 "nbformat_minor": 5
}
