{
 "cells": [
  {
   "cell_type": "code",
   "execution_count": 1,
   "id": "544bb951-64a2-419b-b9c5-0776a4a15269",
   "metadata": {},
   "outputs": [
    {
     "data": {
      "text/plain": [
       "'Slice the 2D NumPy array to extract the sub-array `\\n[[2, 3], [5, 6]]` from the given array.\\n arr_2d = np.array([[1, 2, 3],\\u2028\\n [4, 5, 6],\\u2028\\n [7, 8, 9]]'"
      ]
     },
     "execution_count": 1,
     "metadata": {},
     "output_type": "execute_result"
    }
   ],
   "source": [
    "\"\"\"Slice the 2D NumPy array to extract the sub-array `\n",
    "[[2, 3], [5, 6]]` from the given array.\n",
    " arr_2d = np.array([[1, 2, 3], ",
    "\n",
    " [4, 5, 6], ",
    "\n",
    " [7, 8, 9]]\"\"\""
   ]
  },
  {
   "cell_type": "code",
   "execution_count": 5,
   "id": "ee883e88-446b-4181-8483-3faf8c1980f3",
   "metadata": {},
   "outputs": [
    {
     "data": {
      "text/plain": [
       "array([[5, 6],\n",
       "       [8, 9]])"
      ]
     },
     "execution_count": 5,
     "metadata": {},
     "output_type": "execute_result"
    }
   ],
   "source": [
    "import numpy as np\n",
    "arr_2d = np.array([[1, 2, 3],[4, 5, 6],[7, 8, 9]])\n",
    "arr_2d [1:3,1:3]"
   ]
  },
  {
   "cell_type": "code",
   "execution_count": null,
   "id": "82fccb07-ad38-477e-a313-07c46ad9d4b0",
   "metadata": {},
   "outputs": [],
   "source": []
  }
 ],
 "metadata": {
  "kernelspec": {
   "display_name": "Python 3 (ipykernel)",
   "language": "python",
   "name": "python3"
  },
  "language_info": {
   "codemirror_mode": {
    "name": "ipython",
    "version": 3
   },
   "file_extension": ".py",
   "mimetype": "text/x-python",
   "name": "python",
   "nbconvert_exporter": "python",
   "pygments_lexer": "ipython3",
   "version": "3.10.8"
  }
 },
 "nbformat": 4,
 "nbformat_minor": 5
}
