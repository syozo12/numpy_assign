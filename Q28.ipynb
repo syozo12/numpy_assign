{
 "cells": [
  {
   "cell_type": "code",
   "execution_count": 1,
   "id": "e2f41a8a-ca62-4e36-a19f-7ba6cc57addd",
   "metadata": {},
   "outputs": [
    {
     "data": {
      "text/plain": [
       "'Using boolean indexing, extract elements greater than\\n5 from the given NumPy array.\\n arr = np.array([3, 8, 2, 10, 5, 7]'"
      ]
     },
     "execution_count": 1,
     "metadata": {},
     "output_type": "execute_result"
    }
   ],
   "source": [
    "\"\"\"Using boolean indexing, extract elements greater than\n",
    "5 from the given NumPy array.\n",
    " arr = np.array([3, 8, 2, 10, 5, 7]\"\"\""
   ]
  },
  {
   "cell_type": "code",
   "execution_count": 3,
   "id": "53e1ef8a-4e5b-4064-8c86-5e324003ad86",
   "metadata": {},
   "outputs": [
    {
     "data": {
      "text/plain": [
       "array([ 8, 10,  7])"
      ]
     },
     "execution_count": 3,
     "metadata": {},
     "output_type": "execute_result"
    }
   ],
   "source": [
    "import numpy as np\n",
    "arr = np.array([3, 8, 2, 10, 5, 7])\n",
    "arr[arr>5]"
   ]
  },
  {
   "cell_type": "code",
   "execution_count": null,
   "id": "9e460ef6-284a-4194-9ced-59698fdf0904",
   "metadata": {},
   "outputs": [],
   "source": []
  }
 ],
 "metadata": {
  "kernelspec": {
   "display_name": "Python 3 (ipykernel)",
   "language": "python",
   "name": "python3"
  },
  "language_info": {
   "codemirror_mode": {
    "name": "ipython",
    "version": 3
   },
   "file_extension": ".py",
   "mimetype": "text/x-python",
   "name": "python",
   "nbconvert_exporter": "python",
   "pygments_lexer": "ipython3",
   "version": "3.10.8"
  }
 },
 "nbformat": 4,
 "nbformat_minor": 5
}
