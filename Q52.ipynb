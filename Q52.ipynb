{
 "cells": [
  {
   "cell_type": "code",
   "execution_count": 5,
   "id": "3cce28d3-6989-431e-9cc2-de8a500d0c4c",
   "metadata": {},
   "outputs": [
    {
     "name": "stdout",
     "output_type": "stream",
     "text": [
      "[10  9  8  7  6  5  4  3  2] [1 2 3 4 5 6 7 8 9]\n",
      "[ 9  7  5  3  1 -1 -3 -5 -7]\n"
     ]
    }
   ],
   "source": [
    "\"\"\" Generate a NumPy array `arr1` with sequential(consecut) \n",
    "integers from 10 to 1 and another array `arr2` with \n",
    "integersf rom 1 to 10. Subtract `arr2` from \n",
    "`arr1` element-wise.\"\"\"\n",
    "import numpy as np\n",
    "arr1=np.arange(10,1,-1)\n",
    "arr2=np.arange(1,10)\n",
    "print(arr1,arr2)\n",
    "print(arr1-arr2)\n",
    "\n"
   ]
  },
  {
   "cell_type": "code",
   "execution_count": null,
   "id": "a769f7f0-dc08-48de-870f-cd5ce86c05f6",
   "metadata": {},
   "outputs": [],
   "source": []
  }
 ],
 "metadata": {
  "kernelspec": {
   "display_name": "Python 3 (ipykernel)",
   "language": "python",
   "name": "python3"
  },
  "language_info": {
   "codemirror_mode": {
    "name": "ipython",
    "version": 3
   },
   "file_extension": ".py",
   "mimetype": "text/x-python",
   "name": "python",
   "nbconvert_exporter": "python",
   "pygments_lexer": "ipython3",
   "version": "3.10.8"
  }
 },
 "nbformat": 4,
 "nbformat_minor": 5
}
