{
 "cells": [
  {
   "cell_type": "code",
   "execution_count": 3,
   "id": "1c8fadb9-da07-46c2-84b1-41407d4af91c",
   "metadata": {},
   "outputs": [
    {
     "name": "stdout",
     "output_type": "stream",
     "text": [
      "[[[ 0  1  2]\n",
      "  [ 3  4  5]\n",
      "  [ 6  7  8]\n",
      "  [ 9 10 11]]\n",
      "\n",
      " [[12 13 14]\n",
      "  [15 16 17]\n",
      "  [18 19 20]\n",
      "  [21 22 23]]]\n"
     ]
    },
    {
     "data": {
      "text/plain": [
       "array([ 0, 20])"
      ]
     },
     "execution_count": 3,
     "metadata": {},
     "output_type": "execute_result"
    }
   ],
   "source": [
    "\"\"\" Develop a NumPy function that extracts specific\n",
    "elements from a 3D array using indices provided in three \n",
    "separate arrays for each dimension\"\"\"\n",
    "import numpy as np\n",
    "def extract(arr,dim1_idx,dim2_idx,dim3_idx):\n",
    "    return arr[dim1_idx,dim2_idx,dim3_idx]\n",
    "arr=np.arange(24).reshape(2,4,3)\n",
    "print(arr)\n",
    "dim1_idx=np.array([0,1])\n",
    "dim2_idx=np.array([0,2])\n",
    "dim3_idx=np.array([0,2])\n",
    "extract(arr,dim1_idx,dim2_idx,dim3_idx)"
   ]
  },
  {
   "cell_type": "code",
   "execution_count": 10,
   "id": "86bab797-22bc-4dba-bdea-185a26c28c03",
   "metadata": {},
   "outputs": [
    {
     "name": "stdout",
     "output_type": "stream",
     "text": [
      "[[[ 0  1  2]\n",
      "  [ 3  4  5]\n",
      "  [ 6  7  8]\n",
      "  [ 9 10 11]]\n",
      "\n",
      " [[12 13 14]\n",
      "  [15 16 17]\n",
      "  [18 19 20]\n",
      "  [21 22 23]]]\n"
     ]
    },
    {
     "data": {
      "text/plain": [
       "array([ 4, 23])"
      ]
     },
     "execution_count": 10,
     "metadata": {},
     "output_type": "execute_result"
    }
   ],
   "source": [
    "\n",
    "import numpy as np\n",
    "arr=np.arange(24).reshape(2,4,3)\n",
    "print(arr)\n",
    "arr[[0,1],[1,3],[1,2]]"
   ]
  },
  {
   "cell_type": "code",
   "execution_count": null,
   "id": "055f9427-abfc-4680-9c8f-346619dae0a4",
   "metadata": {},
   "outputs": [],
   "source": []
  }
 ],
 "metadata": {
  "kernelspec": {
   "display_name": "Python 3 (ipykernel)",
   "language": "python",
   "name": "python3"
  },
  "language_info": {
   "codemirror_mode": {
    "name": "ipython",
    "version": 3
   },
   "file_extension": ".py",
   "mimetype": "text/x-python",
   "name": "python",
   "nbconvert_exporter": "python",
   "pygments_lexer": "ipython3",
   "version": "3.10.8"
  }
 },
 "nbformat": 4,
 "nbformat_minor": 5
}
