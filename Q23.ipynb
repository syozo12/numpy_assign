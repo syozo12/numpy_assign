{
 "cells": [
  {
   "cell_type": "code",
   "execution_count": 2,
   "id": "be6a8edc-7349-438c-935e-bde1f9513b40",
   "metadata": {},
   "outputs": [
    {
     "data": {
      "text/plain": [
       "'Write a Python function using NumPy to create an array of 5 logarithmically spaced values between 1 and \\n1000 (inclusive'"
      ]
     },
     "execution_count": 2,
     "metadata": {},
     "output_type": "execute_result"
    }
   ],
   "source": [
    "\"\"\"Write a Python function using NumPy to create\n",
    "an array of 5 logarithmically spaced values between 1 and \n",
    "1000 (inclusive\"\"\""
   ]
  },
  {
   "cell_type": "code",
   "execution_count": 6,
   "id": "20aef6a1-e7ad-4c93-9df4-f75f3fca89a6",
   "metadata": {},
   "outputs": [
    {
     "data": {
      "text/plain": [
       "array([  10.        ,   31.6227766 ,  100.        ,  316.22776602,\n",
       "       1000.        ])"
      ]
     },
     "execution_count": 6,
     "metadata": {},
     "output_type": "execute_result"
    }
   ],
   "source": [
    "import numpy as np\n",
    "def log():\n",
    "    return np.logspace(1,3,5)\n",
    "log()"
   ]
  },
  {
   "cell_type": "code",
   "execution_count": null,
   "id": "dfc4b808-72a3-4250-8ade-880a6f32e5b6",
   "metadata": {},
   "outputs": [],
   "source": []
  }
 ],
 "metadata": {
  "kernelspec": {
   "display_name": "Python 3 (ipykernel)",
   "language": "python",
   "name": "python3"
  },
  "language_info": {
   "codemirror_mode": {
    "name": "ipython",
    "version": 3
   },
   "file_extension": ".py",
   "mimetype": "text/x-python",
   "name": "python",
   "nbconvert_exporter": "python",
   "pygments_lexer": "ipython3",
   "version": "3.10.8"
  }
 },
 "nbformat": 4,
 "nbformat_minor": 5
}
