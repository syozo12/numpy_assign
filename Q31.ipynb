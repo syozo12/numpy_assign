{
 "cells": [
  {
   "cell_type": "code",
   "execution_count": 1,
   "id": "0413c154-6572-4645-b0d4-2f839448ef02",
   "metadata": {},
   "outputs": [
    {
     "data": {
      "text/plain": [
       "'.Write a NumPy function to extract elements\\nin specific order from a given 2D array based on indices \\nprovided in another array'"
      ]
     },
     "execution_count": 1,
     "metadata": {},
     "output_type": "execute_result"
    }
   ],
   "source": [
    "\"\"\".Write a NumPy function to extract elements\n",
    "in specific order from a given 2D array based on indices \n",
    "provided in another array\"\"\""
   ]
  },
  {
   "cell_type": "code",
   "execution_count": 4,
   "id": "fd94e156-5201-47b9-b80b-3a94ae1c9d40",
   "metadata": {},
   "outputs": [
    {
     "name": "stdout",
     "output_type": "stream",
     "text": [
      "[[ 0  1  2]\n",
      " [ 3  4  5]\n",
      " [ 6  7  8]\n",
      " [ 9 10 11]]\n"
     ]
    },
    {
     "data": {
      "text/plain": [
       "array([5, 1])"
      ]
     },
     "execution_count": 4,
     "metadata": {},
     "output_type": "execute_result"
    }
   ],
   "source": [
    "import numpy as np\n",
    "def extract(idx):\n",
    "    return arr[idx[:,0],idx[:,1]]\n",
    "arr=np.arange(12).reshape(4,3)\n",
    "print(arr)\n",
    "idx=np.array([[1,2],[0,1]])\n",
    "extract(idx)"
   ]
  },
  {
   "cell_type": "code",
   "execution_count": 7,
   "id": "a198f667-df9d-448a-a801-4750120c5dfd",
   "metadata": {},
   "outputs": [
    {
     "data": {
      "text/plain": [
       "array([5, 1])"
      ]
     },
     "execution_count": 7,
     "metadata": {},
     "output_type": "execute_result"
    }
   ],
   "source": [
    "arr[indx[:,0],indx[:,1]]"
   ]
  },
  {
   "cell_type": "code",
   "execution_count": null,
   "id": "5d39674b-5da4-49d3-a3ed-dc345ae18118",
   "metadata": {},
   "outputs": [],
   "source": []
  }
 ],
 "metadata": {
  "kernelspec": {
   "display_name": "Python 3 (ipykernel)",
   "language": "python",
   "name": "python3"
  },
  "language_info": {
   "codemirror_mode": {
    "name": "ipython",
    "version": 3
   },
   "file_extension": ".py",
   "mimetype": "text/x-python",
   "name": "python",
   "nbconvert_exporter": "python",
   "pygments_lexer": "ipython3",
   "version": "3.10.8"
  }
 },
 "nbformat": 4,
 "nbformat_minor": 5
}
