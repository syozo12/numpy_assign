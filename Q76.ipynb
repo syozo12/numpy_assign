{
 "cells": [
  {
   "cell_type": "code",
   "execution_count": 3,
   "id": "4a63a438-2068-4819-99cd-eb438f66ce03",
   "metadata": {},
   "outputs": [
    {
     "name": "stdout",
     "output_type": "stream",
     "text": [
      "[90  2 34]\n",
      "[ 1  2 34]\n"
     ]
    }
   ],
   "source": [
    "\"\"\"Create a NumPy array `arr1` with values from 1 to 10.\n",
    "Create a copy of `arr1` named `copy_arr` and modify \n",
    "an element in `copy_arr`. Check if modifying `copy_arr`\n",
    "affects `arr1`\"\"\"\n",
    "import numpy as np\n",
    "arr1=np.array([1,2,34])\n",
    "copy_arr=arr1.copy()\n",
    "copy_arr[0]=90\n",
    "print(copy_arr)\n",
    "print(arr1)"
   ]
  },
  {
   "cell_type": "code",
   "execution_count": null,
   "id": "366eeaae-72dd-48cc-831c-bc9a89b62909",
   "metadata": {},
   "outputs": [],
   "source": []
  }
 ],
 "metadata": {
  "kernelspec": {
   "display_name": "Python 3 (ipykernel)",
   "language": "python",
   "name": "python3"
  },
  "language_info": {
   "codemirror_mode": {
    "name": "ipython",
    "version": 3
   },
   "file_extension": ".py",
   "mimetype": "text/x-python",
   "name": "python",
   "nbconvert_exporter": "python",
   "pygments_lexer": "ipython3",
   "version": "3.10.8"
  }
 },
 "nbformat": 4,
 "nbformat_minor": 5
}
