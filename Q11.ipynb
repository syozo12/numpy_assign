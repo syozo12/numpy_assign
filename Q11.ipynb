{
 "cells": [
  {
   "cell_type": "code",
   "execution_count": 2,
   "id": "16911433-8dde-4e2d-9671-97349a3ad85c",
   "metadata": {},
   "outputs": [
    {
     "name": "stdin",
     "output_type": "stream",
     "text": [
      "enter the number of zeros: 5\n"
     ]
    },
    {
     "data": {
      "text/plain": [
       "array([0, 0, 0, 0, 0])"
      ]
     },
     "execution_count": 2,
     "metadata": {},
     "output_type": "execute_result"
    }
   ],
   "source": [
    "\"\"\"Create a function `create_zeros_array` that takes an \n",
    "integer `n` as input and\n",
    "returns a NumPy array of  zeros with `n` elements\"\"\"\n",
    "import numpy as np\n",
    "def create_zeros_array(n):\n",
    "    arr=np.zeros(n,dtype=int)\n",
    "    return arr\n",
    "n=int(input(\"enter the number of zeros:\"))\n",
    "create_zeros_array(n)"
   ]
  },
  {
   "cell_type": "code",
   "execution_count": null,
   "id": "22c15269-c1d4-4b84-8dbb-ca239506edfb",
   "metadata": {},
   "outputs": [],
   "source": []
  }
 ],
 "metadata": {
  "kernelspec": {
   "display_name": "Python 3 (ipykernel)",
   "language": "python",
   "name": "python3"
  },
  "language_info": {
   "codemirror_mode": {
    "name": "ipython",
    "version": 3
   },
   "file_extension": ".py",
   "mimetype": "text/x-python",
   "name": "python",
   "nbconvert_exporter": "python",
   "pygments_lexer": "ipython3",
   "version": "3.10.8"
  }
 },
 "nbformat": 4,
 "nbformat_minor": 5
}
