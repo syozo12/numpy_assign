{
 "cells": [
  {
   "cell_type": "code",
   "execution_count": 1,
   "id": "9a95a551-acd4-4f6d-a71b-63cbb928c438",
   "metadata": {},
   "outputs": [
    {
     "data": {
      "text/plain": [
       "'Write a function that vertically stacks\\nmultiple NumPy arrays given as a list'"
      ]
     },
     "execution_count": 1,
     "metadata": {},
     "output_type": "execute_result"
    }
   ],
   "source": [
    "\"\"\"Write a function that vertically stacks\n",
    "multiple NumPy arrays given as a list\"\"\""
   ]
  },
  {
   "cell_type": "code",
   "execution_count": 4,
   "id": "6f8714fe-f103-42a2-a280-9ec666d8cb69",
   "metadata": {},
   "outputs": [
    {
     "data": {
      "text/plain": [
       "array([[0, 1, 2],\n",
       "       [0, 1, 2],\n",
       "       [3, 4, 5],\n",
       "       [0, 1, 2],\n",
       "       [3, 4, 5],\n",
       "       [6, 7, 8],\n",
       "       [0, 1, 2],\n",
       "       [3, 4, 5],\n",
       "       [6, 7, 8]])"
      ]
     },
     "execution_count": 4,
     "metadata": {},
     "output_type": "execute_result"
    }
   ],
   "source": [
    "import numpy as np\n",
    "def stacks(li):\n",
    "    return np.vstack(li)\n",
    "arr1=np.arange(3).reshape(1,3)\n",
    "arr2=np.arange(6).reshape(2,3)\n",
    "arr3=np.arange(9).reshape(3,3)\n",
    "arr4=np.arange(9).reshape(3,3)\n",
    "stacks([arr1,arr2,arr3,arr4])\n",
    "#all array should have same dimensions\n"
   ]
  },
  {
   "cell_type": "code",
   "execution_count": null,
   "id": "cdfa1611-848a-4384-bcfd-26ba31455e7b",
   "metadata": {},
   "outputs": [],
   "source": []
  }
 ],
 "metadata": {
  "kernelspec": {
   "display_name": "Python 3 (ipykernel)",
   "language": "python",
   "name": "python3"
  },
  "language_info": {
   "codemirror_mode": {
    "name": "ipython",
    "version": 3
   },
   "file_extension": ".py",
   "mimetype": "text/x-python",
   "name": "python",
   "nbconvert_exporter": "python",
   "pygments_lexer": "ipython3",
   "version": "3.10.8"
  }
 },
 "nbformat": 4,
 "nbformat_minor": 5
}
