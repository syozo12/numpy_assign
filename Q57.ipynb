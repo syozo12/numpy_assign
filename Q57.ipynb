{
 "cells": [
  {
   "cell_type": "code",
   "execution_count": 12,
   "id": "a6d6c93f-9d9a-4a7d-8bfa-2d72422197eb",
   "metadata": {},
   "outputs": [
    {
     "data": {
      "text/plain": [
       "'HWOAIGPT'"
      ]
     },
     "execution_count": 12,
     "metadata": {},
     "output_type": "execute_result"
    }
   ],
   "source": [
    "\"\"\" Write a function that extracts uppercase characters \n",
    "from a NumPy array of strings.\n",
    " arr = np.array(['Hello', 'World', 'OpenAI', 'GPT'])\"\"\"\n",
    "import numpy as np\n",
    "def upper(arr):\n",
    "    arr=''.join(arr)#whole arr is converted to single string\n",
    "    return ''.join(filter(str.isupper,arr))\n",
    "arr = np.array(['Hello', 'World', 'OpenAI', 'GPT'])\n",
    "upper(arr)"
   ]
  },
  {
   "cell_type": "code",
   "execution_count": 2,
   "id": "febc48ba-790f-416b-b02f-95c00e1b0548",
   "metadata": {},
   "outputs": [],
   "source": [
    "import numpy as np\n",
    "arr = np.array(['Hello', 'World', 'OpenAI', 'GPT'])\n",
    "b=np.count(np.char.upper(arr))\n",
    "for i in range(len(b)):\n",
    "    if b[i]==1:\n",
    "        print(arr[i])"
   ]
  },
  {
   "cell_type": "code",
   "execution_count": 6,
   "id": "31d27459-4467-4143-8e6d-0028a03d3d45",
   "metadata": {},
   "outputs": [
    {
     "data": {
      "text/plain": [
       "<filter at 0x7f18543e9ff0>"
      ]
     },
     "execution_count": 6,
     "metadata": {},
     "output_type": "execute_result"
    }
   ],
   "source": [
    "import numpy as np\n",
    "arr = np.array(['Hello', 'World', 'OpenAI', 'GPT'])\n",
    "#arr.isupper()\n",
    "a=''.join(arr)\n",
    "filter(str.isupper,a)\n",
    "\n"
   ]
  },
  {
   "cell_type": "code",
   "execution_count": 5,
   "id": "863d84e8-3f03-4d03-a9f4-5c220cc776a7",
   "metadata": {},
   "outputs": [
    {
     "data": {
      "text/plain": [
       "'HelloWorldOpenAIGPT'"
      ]
     },
     "execution_count": 5,
     "metadata": {},
     "output_type": "execute_result"
    }
   ],
   "source": [
    "arr=''.join(arr)\n",
    "arr"
   ]
  },
  {
   "cell_type": "code",
   "execution_count": null,
   "id": "304d6c56-94fe-4cdd-b99e-d76fb6c3c1bd",
   "metadata": {},
   "outputs": [],
   "source": [
    "\"\"\"The filter() function in Python allows you to process an iterable\n",
    "(such as a list, tuple, or set) and extract items that satisfy a given \n",
    "condition. It’s commonly used for filtering elements based on a specified\n",
    "function. Here’s how it works:\n",
    "\n",
    "Syntax:\n",
    "The filter() method has the following syntax:\n",
    "Python\n",
    "\n",
    "filter(function, sequence)\n",
    "AI-generated code. Review and use carefully. More info on FAQ.\n",
    "Parameters:\n",
    "function: A function that tests whether each element of the sequence is\n",
    "true or not.\n",
    "sequence: The iterable (e.g., list, tuple, set) that needs to be filtered.\"\"\""
   ]
  },
  {
   "cell_type": "code",
   "execution_count": null,
   "id": "170fde04-52f6-4807-af4d-0d4a2ce1b195",
   "metadata": {},
   "outputs": [],
   "source": [
    "Why You Don’t See Anything:\n",
    "The filter() function doesn’t immediately compute\n",
    "the filtered result. Instead, it sets up an iterator\n",
    "that will yield the filtered elements when iterated over.\n",
    "To see the actual filtered values, you need to convert \n",
    "the iterator to a list or another iterable type \n",
    "(e.g., tuple, set).\n",
    "When you directly print the result of \n",
    "filter(str.isupper, a), you see <filter object> because\n",
    "it’s an iterator, not a list."
   ]
  }
 ],
 "metadata": {
  "kernelspec": {
   "display_name": "Python 3 (ipykernel)",
   "language": "python",
   "name": "python3"
  },
  "language_info": {
   "codemirror_mode": {
    "name": "ipython",
    "version": 3
   },
   "file_extension": ".py",
   "mimetype": "text/x-python",
   "name": "python",
   "nbconvert_exporter": "python",
   "pygments_lexer": "ipython3",
   "version": "3.10.8"
  }
 },
 "nbformat": 4,
 "nbformat_minor": 5
}
