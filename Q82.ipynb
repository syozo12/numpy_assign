{
 "cells": [
  {
   "cell_type": "code",
   "execution_count": 3,
   "id": "3372bebf-490c-4671-b082-b220caa60738",
   "metadata": {},
   "outputs": [
    {
     "name": "stdout",
     "output_type": "stream",
     "text": [
      "[[0 1]\n",
      " [2 3]\n",
      " [4 5]] [[0 1 2 3]\n",
      " [4 5 6 7]]\n",
      "[[ 4  5  6  7]\n",
      " [12 17 22 27]\n",
      " [20 29 38 47]]\n"
     ]
    }
   ],
   "source": [
    "\"\"\" Generate two matrices `C` (3x2) and `D` (2x4) and \n",
    "perform matrix multiplication\"\"\"\n",
    "import numpy as np\n",
    "c=np.arange(6).reshape(3,2)\n",
    "d=np.arange(8).reshape(2,4)\n",
    "print(c,d)\n",
    "print(c@d)"
   ]
  },
  {
   "cell_type": "code",
   "execution_count": null,
   "id": "b6e1a775-8c5a-4dcd-b14c-adc650dc9a8b",
   "metadata": {},
   "outputs": [],
   "source": []
  }
 ],
 "metadata": {
  "kernelspec": {
   "display_name": "Python 3 (ipykernel)",
   "language": "python",
   "name": "python3"
  },
  "language_info": {
   "codemirror_mode": {
    "name": "ipython",
    "version": 3
   },
   "file_extension": ".py",
   "mimetype": "text/x-python",
   "name": "python",
   "nbconvert_exporter": "python",
   "pygments_lexer": "ipython3",
   "version": "3.10.8"
  }
 },
 "nbformat": 4,
 "nbformat_minor": 5
}
