{
 "cells": [
  {
   "cell_type": "code",
   "execution_count": 3,
   "id": "d4bbe491-9b3d-4813-bcf2-298da3aa69c4",
   "metadata": {},
   "outputs": [
    {
     "name": "stdout",
     "output_type": "stream",
     "text": [
      "[12 15]\n"
     ]
    }
   ],
   "source": [
    "\"\"\". Filter elements which are divisible by 3 from a given NumPy array.\n",
    " arr = np.array([1, 5, 8, 12, 15])\"\"\"\n",
    "import numpy as np\n",
    "arr = np.array([1, 5, 8, 12, 15])\n",
    "filtered_array=arr[arr%3==0]\n",
    "print(filtered_array)\n",
    "\n"
   ]
  },
  {
   "cell_type": "code",
   "execution_count": null,
   "id": "f71e26f3-2ce0-41f9-a1a4-b813f1744dbf",
   "metadata": {},
   "outputs": [],
   "source": []
  }
 ],
 "metadata": {
  "kernelspec": {
   "display_name": "Python 3 (ipykernel)",
   "language": "python",
   "name": "python3"
  },
  "language_info": {
   "codemirror_mode": {
    "name": "ipython",
    "version": 3
   },
   "file_extension": ".py",
   "mimetype": "text/x-python",
   "name": "python",
   "nbconvert_exporter": "python",
   "pygments_lexer": "ipython3",
   "version": "3.10.8"
  }
 },
 "nbformat": 4,
 "nbformat_minor": 5
}
