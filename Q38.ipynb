{
 "cells": [
  {
   "cell_type": "code",
   "execution_count": 2,
   "id": "8f8a4338-a395-441e-b66b-ca482ee53ee5",
   "metadata": {},
   "outputs": [
    {
     "name": "stdout",
     "output_type": "stream",
     "text": [
      "[[0 1 2 3]]\n",
      "[[ 0  1  2]\n",
      " [ 3  4  5]\n",
      " [ 6  7  8]\n",
      " [ 9 10 11]]\n"
     ]
    },
    {
     "data": {
      "text/plain": [
       "array([[ 0,  1,  2],\n",
       "       [ 4,  5,  6],\n",
       "       [ 8,  9, 10],\n",
       "       [12, 13, 14]])"
      ]
     },
     "execution_count": 2,
     "metadata": {},
     "output_type": "execute_result"
    }
   ],
   "source": [
    "\"\"\" Given a 1D array arr1 of shape (1, 4) and a 2D\n",
    "\\array arr2 of shape (4, 3), add arr1 to each row of arr2 \n",
    "using NumPy broadcasting.\"\"\"\n",
    "import numpy as np\n",
    "arr1=np.arange(4).reshape(1,4)#doubt\n",
    "print(arr1)\n",
    "arr2=np.arange(12).reshape(4,3)\n",
    "print(arr2)\n",
    "arr1.T+arr2\n"
   ]
  },
  {
   "cell_type": "code",
   "execution_count": null,
   "id": "35ef23c4-f561-4324-ab7b-dfb5d0a2497b",
   "metadata": {},
   "outputs": [],
   "source": []
  }
 ],
 "metadata": {
  "kernelspec": {
   "display_name": "Python 3 (ipykernel)",
   "language": "python",
   "name": "python3"
  },
  "language_info": {
   "codemirror_mode": {
    "name": "ipython",
    "version": 3
   },
   "file_extension": ".py",
   "mimetype": "text/x-python",
   "name": "python",
   "nbconvert_exporter": "python",
   "pygments_lexer": "ipython3",
   "version": "3.10.8"
  }
 },
 "nbformat": 4,
 "nbformat_minor": 5
}
