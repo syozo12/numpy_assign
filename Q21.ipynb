{
 "cells": [
  {
   "cell_type": "code",
   "execution_count": 1,
   "id": "e6eefd01-fb47-47a3-8d04-37e05aaa601a",
   "metadata": {},
   "outputs": [
    {
     "data": {
      "text/plain": [
       "'Write a Python function using NumPy to create an \\narray of integers within a specified range (inclusive) \\nwith a given step size'"
      ]
     },
     "execution_count": 1,
     "metadata": {},
     "output_type": "execute_result"
    }
   ],
   "source": [
    "\"\"\"Write a Python function using NumPy to create an \n",
    "array of integers within a specified range (inclusive) \n",
    "with a given step size\"\"\"\n",
    "\n"
   ]
  },
  {
   "cell_type": "code",
   "execution_count": 6,
   "id": "8740f9fb-dbd0-437b-a6cb-279f2b25b147",
   "metadata": {},
   "outputs": [
    {
     "name": "stdin",
     "output_type": "stream",
     "text": [
      "enetr the upper limit 3\n",
      "enetr the lower limit 8\n",
      "enetr step 2\n"
     ]
    },
    {
     "data": {
      "text/plain": [
       "array([3, 5, 7])"
      ]
     },
     "execution_count": 6,
     "metadata": {},
     "output_type": "execute_result"
    }
   ],
   "source": [
    "import numpy as np\n",
    "def arr(a,b,c):\n",
    "    return np.arange(a,b+1,c)\n",
    "a=int(input(\"enetr the upper limit\"))\n",
    "b=int(input(\"enetr the lower limit\"))\n",
    "c=int(input(\"enetr step\"))\n",
    "arr(a,b,c)"
   ]
  },
  {
   "cell_type": "code",
   "execution_count": null,
   "id": "064a0cfd-b748-46eb-a930-54000d26b04d",
   "metadata": {},
   "outputs": [],
   "source": []
  }
 ],
 "metadata": {
  "kernelspec": {
   "display_name": "Python 3 (ipykernel)",
   "language": "python",
   "name": "python3"
  },
  "language_info": {
   "codemirror_mode": {
    "name": "ipython",
    "version": 3
   },
   "file_extension": ".py",
   "mimetype": "text/x-python",
   "name": "python",
   "nbconvert_exporter": "python",
   "pygments_lexer": "ipython3",
   "version": "3.10.8"
  }
 },
 "nbformat": 4,
 "nbformat_minor": 5
}
