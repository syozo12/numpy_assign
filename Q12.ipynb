{
 "cells": [
  {
   "cell_type": "code",
   "execution_count": 5,
   "id": "f729186f-e241-4e46-a27f-c5e168a5b58d",
   "metadata": {},
   "outputs": [
    {
     "name": "stdin",
     "output_type": "stream",
     "text": [
      "enter the number of rows: 6\n",
      "enter the number of colums: 7\n"
     ]
    },
    {
     "data": {
      "text/plain": [
       "array([[1, 1, 1, 1, 1, 1, 1],\n",
       "       [1, 1, 1, 1, 1, 1, 1],\n",
       "       [1, 1, 1, 1, 1, 1, 1],\n",
       "       [1, 1, 1, 1, 1, 1, 1],\n",
       "       [1, 1, 1, 1, 1, 1, 1],\n",
       "       [1, 1, 1, 1, 1, 1, 1]])"
      ]
     },
     "execution_count": 5,
     "metadata": {},
     "output_type": "execute_result"
    }
   ],
   "source": [
    "\"\"\"Write a function `create_ones_matrix` that takes \n",
    "integers `rows` and `cols` \n",
    "as inputs and generates a 2D NumPy array filled with ones \n",
    "of size `rows x cols`\n",
    "\"\"\"\n",
    "import numpy as np\n",
    "def create_zeros_array(r,c):\n",
    "    arr=np.ones((r,c),dtype=int)#np.ones(shape, dtype=None, order='C').\n",
    "    return arr\n",
    "r=int(input(\"enter the number of rows:\"))\n",
    "c=int(input(\"enter the number of colums:\"))\n",
    "create_zeros_array(r,c)"
   ]
  },
  {
   "cell_type": "code",
   "execution_count": null,
   "id": "bf77df5a-48a5-4cf2-b0b3-0e435ea98177",
   "metadata": {},
   "outputs": [],
   "source": []
  }
 ],
 "metadata": {
  "kernelspec": {
   "display_name": "Python 3 (ipykernel)",
   "language": "python",
   "name": "python3"
  },
  "language_info": {
   "codemirror_mode": {
    "name": "ipython",
    "version": 3
   },
   "file_extension": ".py",
   "mimetype": "text/x-python",
   "name": "python",
   "nbconvert_exporter": "python",
   "pygments_lexer": "ipython3",
   "version": "3.10.8"
  }
 },
 "nbformat": 4,
 "nbformat_minor": 5
}
