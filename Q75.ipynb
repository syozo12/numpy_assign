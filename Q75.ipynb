{
 "cells": [
  {
   "cell_type": "code",
   "execution_count": 2,
   "id": "17ead1ac-cd6b-4ee1-b793-9975ec0639a9",
   "metadata": {},
   "outputs": [
    {
     "name": "stdout",
     "output_type": "stream",
     "text": [
      "Byte order of the array:\n",
      "=\n"
     ]
    }
   ],
   "source": [
    "\"\"\". For the given NumPy array, check if byte swapping is necessary for the current system using `dtype` \n",
    "attribute `byteorder`.\n",
    " arr = np.array([1, 2, 3], dtype=np.int32)\"\"\"\n",
    "import numpy as np\n",
    "\n",
    "arr = np.array([1, 2, 3], dtype=np.int32)\n",
    "\n",
    "# Check the byte order\n",
    "byte_order = arr.dtype.byteorder\n",
    "\n",
    "print(\"Byte order of the array:\")\n",
    "print(byte_order)\n"
   ]
  },
  {
   "cell_type": "code",
   "execution_count": null,
   "id": "060a50f0-64ee-467d-b3c1-117df4740aae",
   "metadata": {},
   "outputs": [],
   "source": []
  }
 ],
 "metadata": {
  "kernelspec": {
   "display_name": "Python 3 (ipykernel)",
   "language": "python",
   "name": "python3"
  },
  "language_info": {
   "codemirror_mode": {
    "name": "ipython",
    "version": 3
   },
   "file_extension": ".py",
   "mimetype": "text/x-python",
   "name": "python",
   "nbconvert_exporter": "python",
   "pygments_lexer": "ipython3",
   "version": "3.10.8"
  }
 },
 "nbformat": 4,
 "nbformat_minor": 5
}
