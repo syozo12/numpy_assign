{
 "cells": [
  {
   "cell_type": "code",
   "execution_count": null,
   "id": "0460b808-93a1-4a42-9bfe-7e29f25c8713",
   "metadata": {},
   "outputs": [],
   "source": [
    ". Create a function array_dimension that takes a NumPy\n",
    "array as input\n",
    "and returns its dimensionality."
   ]
  },
  {
   "cell_type": "code",
   "execution_count": 2,
   "id": "db56825b-bbe6-459d-991c-567c147de59e",
   "metadata": {},
   "outputs": [
    {
     "data": {
      "text/plain": [
       "3"
      ]
     },
     "execution_count": 2,
     "metadata": {},
     "output_type": "execute_result"
    }
   ],
   "source": [
    "import numpy as np\n",
    "def array_dimension(arr): \n",
    "    return arr.ndim\n",
    "arr=np.arange(0,12).reshape(1,4,3)\n",
    "array_dimension(arr)"
   ]
  },
  {
   "cell_type": "code",
   "execution_count": null,
   "id": "0c893829-8dbe-4b6c-ab1f-11352e6afde1",
   "metadata": {},
   "outputs": [],
   "source": []
  }
 ],
 "metadata": {
  "kernelspec": {
   "display_name": "Python 3 (ipykernel)",
   "language": "python",
   "name": "python3"
  },
  "language_info": {
   "codemirror_mode": {
    "name": "ipython",
    "version": 3
   },
   "file_extension": ".py",
   "mimetype": "text/x-python",
   "name": "python",
   "nbconvert_exporter": "python",
   "pygments_lexer": "ipython3",
   "version": "3.10.8"
  }
 },
 "nbformat": 4,
 "nbformat_minor": 5
}
