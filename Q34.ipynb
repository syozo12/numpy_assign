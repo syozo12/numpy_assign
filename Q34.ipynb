{
 "cells": [
  {
   "cell_type": "code",
   "execution_count": 15,
   "id": "bcb8c593-8556-4e59-9892-990d8da01fd1",
   "metadata": {},
   "outputs": [
    {
     "data": {
      "text/plain": [
       "array([2, 3, 4])"
      ]
     },
     "execution_count": 15,
     "metadata": {},
     "output_type": "execute_result"
    }
   ],
   "source": [
    "\"\"\". Write a NumPy function that returns elements from\n",
    "an array where both two conditions are satisfied \n",
    "using boolean indexing\"\"\"\n",
    "import numpy as np\n",
    "def elements(cond1,cond2):\n",
    "    return arr[np.logical_and(cond1,cond2)]\n",
    "arr=np.arange(24).reshape(2,4,3)\n",
    "cond1=arr>1\n",
    "cond2=arr<5\n",
    "elements(cond1,cond2)\n",
    "    "
   ]
  },
  {
   "cell_type": "code",
   "execution_count": 14,
   "id": "ef71af96-d18e-43df-8b16-a396979ab0ac",
   "metadata": {},
   "outputs": [
    {
     "name": "stdout",
     "output_type": "stream",
     "text": [
      "[[[ 0  1  2]\n",
      "  [ 3  4  5]\n",
      "  [ 6  7  8]\n",
      "  [ 9 10 11]]\n",
      "\n",
      " [[12 13 14]\n",
      "  [15 16 17]\n",
      "  [18 19 20]\n",
      "  [21 22 23]]]\n"
     ]
    },
    {
     "ename": "ValueError",
     "evalue": "The truth value of an array with more than one element is ambiguous. Use a.any() or a.all()",
     "output_type": "error",
     "traceback": [
      "\u001b[0;31m---------------------------------------------------------------------------\u001b[0m",
      "\u001b[0;31mValueError\u001b[0m                                Traceback (most recent call last)",
      "Cell \u001b[0;32mIn[14], line 4\u001b[0m\n\u001b[1;32m      2\u001b[0m arr\u001b[38;5;241m=\u001b[39mnp\u001b[38;5;241m.\u001b[39marange(\u001b[38;5;241m24\u001b[39m)\u001b[38;5;241m.\u001b[39mreshape(\u001b[38;5;241m2\u001b[39m,\u001b[38;5;241m4\u001b[39m,\u001b[38;5;241m3\u001b[39m)\n\u001b[1;32m      3\u001b[0m \u001b[38;5;28mprint\u001b[39m(arr)\n\u001b[0;32m----> 4\u001b[0m arr[arr\u001b[38;5;241m>\u001b[39m\u001b[38;5;241m2\u001b[39m \u001b[38;5;241m&\u001b[39m arr\u001b[38;5;241m<\u001b[39m\u001b[38;5;241m5\u001b[39m]\n",
      "\u001b[0;31mValueError\u001b[0m: The truth value of an array with more than one element is ambiguous. Use a.any() or a.all()"
     ]
    }
   ],
   "source": [
    "import numpy as np\n",
    "arr=np.arange(24).reshape(2,4,3)\n",
    "print(arr)\n",
    "arr[arr>2 & arr<5]\n"
   ]
  },
  {
   "cell_type": "code",
   "execution_count": 8,
   "id": "c5b7c7d8-c1e1-4069-9ad4-992974d83447",
   "metadata": {},
   "outputs": [
    {
     "name": "stdout",
     "output_type": "stream",
     "text": [
      "[[[ 0  1  2]\n",
      "  [ 3  4  5]\n",
      "  [ 6  7  8]\n",
      "  [ 9 10 11]]\n",
      "\n",
      " [[12 13 14]\n",
      "  [15 16 17]\n",
      "  [18 19 20]\n",
      "  [21 22 23]]]\n"
     ]
    },
    {
     "data": {
      "text/plain": [
       "(array([1, 1, 1]), array([3, 3, 3]), array([0, 1, 2]))"
      ]
     },
     "execution_count": 8,
     "metadata": {},
     "output_type": "execute_result"
    }
   ],
   "source": [
    "arr=np.arange(24).reshape(2,4,3)\n",
    "print(arr)\n",
    "np.where(arr>20)#idx"
   ]
  },
  {
   "cell_type": "code",
   "execution_count": null,
   "id": "b216c1f5-e778-49da-83c6-1bb13e309a47",
   "metadata": {},
   "outputs": [],
   "source": []
  }
 ],
 "metadata": {
  "kernelspec": {
   "display_name": "Python 3 (ipykernel)",
   "language": "python",
   "name": "python3"
  },
  "language_info": {
   "codemirror_mode": {
    "name": "ipython",
    "version": 3
   },
   "file_extension": ".py",
   "mimetype": "text/x-python",
   "name": "python",
   "nbconvert_exporter": "python",
   "pygments_lexer": "ipython3",
   "version": "3.10.8"
  }
 },
 "nbformat": 4,
 "nbformat_minor": 5
}
