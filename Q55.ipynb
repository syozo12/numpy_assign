{
 "cells": [
  {
   "cell_type": "code",
   "execution_count": 6,
   "id": "53cb1ba7-5b3c-4b50-a68c-7ec1a23ed6e4",
   "metadata": {},
   "outputs": [
    {
     "name": "stdout",
     "output_type": "stream",
     "text": [
      "[1 2 3 4 5] [5 4 3 2 1]\n",
      "[ 1 16 27 16  5]\n"
     ]
    }
   ],
   "source": [
    "\"\"\"Create a NumPy array `arr1` with integers from 1 to 5 and \n",
    "another array `arr2` with the same numbers \n",
    "reversed. Calculate the exponentiation of `arr1` raised\n",
    "to the power of `arr2` element-wise\"\"\"\n",
    "import numpy as np\n",
    "arr1=np.arange(1,6)\n",
    "arr2=arr1[::-1]\n",
    "print(arr1,arr2)\n",
    "print(arr1**arr2)\n"
   ]
  },
  {
   "cell_type": "code",
   "execution_count": null,
   "id": "b3756f55-d773-4a96-826e-df47979e28d6",
   "metadata": {},
   "outputs": [],
   "source": []
  }
 ],
 "metadata": {
  "kernelspec": {
   "display_name": "Python 3 (ipykernel)",
   "language": "python",
   "name": "python3"
  },
  "language_info": {
   "codemirror_mode": {
    "name": "ipython",
    "version": 3
   },
   "file_extension": ".py",
   "mimetype": "text/x-python",
   "name": "python",
   "nbconvert_exporter": "python",
   "pygments_lexer": "ipython3",
   "version": "3.10.8"
  }
 },
 "nbformat": 4,
 "nbformat_minor": 5
}
