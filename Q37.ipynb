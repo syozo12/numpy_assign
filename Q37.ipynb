{
 "cells": [
  {
   "cell_type": "code",
   "execution_count": 15,
   "id": "ad956684-a040-4eb3-853d-b082c451a538",
   "metadata": {},
   "outputs": [
    {
     "name": "stdout",
     "output_type": "stream",
     "text": [
      "[[0 1 2]]\n",
      "[[ 0  1  2  3]\n",
      " [ 4  5  6  7]\n",
      " [ 8  9 10 11]]\n",
      "[[ 0  0  0  0]\n",
      " [ 4  5  6  7]\n",
      " [16 18 20 22]]\n"
     ]
    }
   ],
   "source": [
    "\"\"\"Consider two arrays arr1 of shape (1, 3) and arr2 of\n",
    "shape (3, 4). Multiply each row of arr2 by the \n",
    "corresponding element in arr1 using NumPy broadcasting.\"\"\"\n",
    "import numpy as np\n",
    "arr1=np.arange(3).reshape(1,3)#doubt\n",
    "print(arr1)\n",
    "arr2=np.arange(12).reshape(3,4)\n",
    "print(arr2)\n",
    "r=arr1.T * arr2\n",
    "print(r)"
   ]
  },
  {
   "cell_type": "code",
   "execution_count": null,
   "id": "30457c4d-1541-465a-8129-a99f4f1498c5",
   "metadata": {},
   "outputs": [],
   "source": []
  }
 ],
 "metadata": {
  "kernelspec": {
   "display_name": "Python 3 (ipykernel)",
   "language": "python",
   "name": "python3"
  },
  "language_info": {
   "codemirror_mode": {
    "name": "ipython",
    "version": 3
   },
   "file_extension": ".py",
   "mimetype": "text/x-python",
   "name": "python",
   "nbconvert_exporter": "python",
   "pygments_lexer": "ipython3",
   "version": "3.10.8"
  }
 },
 "nbformat": 4,
 "nbformat_minor": 5
}
