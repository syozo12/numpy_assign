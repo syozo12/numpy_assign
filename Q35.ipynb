{
 "cells": [
  {
   "cell_type": "code",
   "execution_count": 3,
   "id": "9e364ad4-c23f-45c0-b5a8-a78eee035d06",
   "metadata": {},
   "outputs": [
    {
     "name": "stdout",
     "output_type": "stream",
     "text": [
      "[[ 0  1  2]\n",
      " [ 3  4  5]\n",
      " [ 6  7  8]\n",
      " [ 9 10 11]]\n"
     ]
    },
    {
     "data": {
      "text/plain": [
       "array([3, 7])"
      ]
     },
     "execution_count": 3,
     "metadata": {},
     "output_type": "execute_result"
    }
   ],
   "source": [
    "\"\"\" Create a NumPy function that extracts elements \n",
    "from a 2D array using row and column indices provided \n",
    "in separate arrays\"\"\"\n",
    "import numpy as np\n",
    "def ele(row,col):\n",
    "    return arr[row,col]\n",
    "arr=np.arange(12).reshape(4,3)\n",
    "print(arr)\n",
    "row=np.array([1,2])\n",
    "col=np.array([0,1])\n",
    "ele(row,col)"
   ]
  },
  {
   "cell_type": "code",
   "execution_count": null,
   "id": "dcb773d0-eca7-49b1-be09-206255d37d86",
   "metadata": {},
   "outputs": [],
   "source": []
  }
 ],
 "metadata": {
  "kernelspec": {
   "display_name": "Python 3 (ipykernel)",
   "language": "python",
   "name": "python3"
  },
  "language_info": {
   "codemirror_mode": {
    "name": "ipython",
    "version": 3
   },
   "file_extension": ".py",
   "mimetype": "text/x-python",
   "name": "python",
   "nbconvert_exporter": "python",
   "pygments_lexer": "ipython3",
   "version": "3.10.8"
  }
 },
 "nbformat": 4,
 "nbformat_minor": 5
}
