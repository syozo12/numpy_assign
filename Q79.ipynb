{
 "cells": [
  {
   "cell_type": "code",
   "execution_count": 17,
   "id": "46e49c23-696e-4737-a06b-7362f025e642",
   "metadata": {},
   "outputs": [
    {
     "name": "stdout",
     "output_type": "stream",
     "text": [
      "[[ 1 99]\n",
      " [ 3  4]\n",
      " [ 5  6]\n",
      " [ 7  8]]\n",
      "[[ 1 99  3  4]\n",
      " [ 5  6  7  8]]\n",
      "yes\n"
     ]
    }
   ],
   "source": [
    "\"\"\". Create a NumPy array `orig_array` of shape (2, 4) \n",
    "with values from 1 to 8. Create a reshaped view \n",
    "`reshaped_view` of shape (4, 2) from orig_array. \n",
    "Modify an element in `reshaped_view` and check if it \n",
    "reflects changes in the original `orig_array`\"\"\"\n",
    "import numpy as np\n",
    "orig_array=np.arange(1,9).reshape(2,4)\n",
    "reshaped_view=orig_array.reshape(4,2)\n",
    "reshaped_view[0,1]=99\n",
    "print(reshaped_view)\n",
    "print(orig_array)\n",
    "for i in range(len(reshaped_view)):\n",
    "    for j in range(len(reshaped_view[0])):\n",
    "        if reshaped_view[i][j] in orig_array:\n",
    "            continue\n",
    "        else:\n",
    "            print(\"no\")\n",
    "            break\n",
    "print(\"yes\")\n",
    "\n"
   ]
  },
  {
   "cell_type": "code",
   "execution_count": 15,
   "id": "8b9d77fd-9932-47dc-bea2-0b6022c40771",
   "metadata": {},
   "outputs": [
    {
     "name": "stdout",
     "output_type": "stream",
     "text": [
      "[[ 1 99]\n",
      " [ 3  4]\n",
      " [ 5  6]\n",
      " [ 7  8]]\n",
      "h\n"
     ]
    },
    {
     "data": {
      "text/plain": [
       "2"
      ]
     },
     "execution_count": 15,
     "metadata": {},
     "output_type": "execute_result"
    }
   ],
   "source": [
    "r=orig_array.reshape(4,2)\n",
    "print(r)\n",
    "if 1 in r:\n",
    "    print(\"h\")\n",
    "#np.items(r)\n",
    "len(r[)"
   ]
  },
  {
   "cell_type": "code",
   "execution_count": null,
   "id": "2989f671-6596-42bf-bc62-73396e99f013",
   "metadata": {},
   "outputs": [],
   "source": []
  }
 ],
 "metadata": {
  "kernelspec": {
   "display_name": "Python 3 (ipykernel)",
   "language": "python",
   "name": "python3"
  },
  "language_info": {
   "codemirror_mode": {
    "name": "ipython",
    "version": 3
   },
   "file_extension": ".py",
   "mimetype": "text/x-python",
   "name": "python",
   "nbconvert_exporter": "python",
   "pygments_lexer": "ipython3",
   "version": "3.10.8"
  }
 },
 "nbformat": 4,
 "nbformat_minor": 5
}
