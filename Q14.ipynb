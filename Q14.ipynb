{
 "cells": [
  {
   "cell_type": "code",
   "execution_count": null,
   "id": "cb2687a1-1a78-4803-99d4-5a3ed3fcc1f5",
   "metadata": {},
   "outputs": [],
   "source": [
    " Design a function `generate_linear_space` that takes two \n",
    "floats `start`, `stop`, and an integer `num` as \n",
    "arguments and generates a NumPy array with num equally \n",
    "spaced values between `start` and `stop` \n",
    "(inclusive)"
   ]
  },
  {
   "cell_type": "code",
   "execution_count": 8,
   "id": "4fa184f2-6ca0-470a-8814-e6908ce64153",
   "metadata": {},
   "outputs": [
    {
     "name": "stdin",
     "output_type": "stream",
     "text": [
      "enter the starting value: 5\n",
      "enter the ending value: 7\n",
      "enter the num : 5\n"
     ]
    },
    {
     "data": {
      "text/plain": [
       "array([5. , 5.5, 6. , 6.5, 7. ])"
      ]
     },
     "execution_count": 8,
     "metadata": {},
     "output_type": "execute_result"
    }
   ],
   "source": [
    "import numpy as np\n",
    "def generate_linear_space(start,stop,num):\n",
    "    return np.linspace(start,stop,num)\n",
    "start=float(input(\"enter the starting value:\"))\n",
    "stop=float(input(\"enter the ending value:\"))\n",
    "num=int(input(\"enter the num :\"))\n",
    "generate_linear_space(start,stop,num)\n",
    "    \n"
   ]
  },
  {
   "cell_type": "code",
   "execution_count": null,
   "id": "7b87eb01-d44f-4d81-8cad-a8cb82fc50bf",
   "metadata": {},
   "outputs": [],
   "source": []
  }
 ],
 "metadata": {
  "kernelspec": {
   "display_name": "Python 3 (ipykernel)",
   "language": "python",
   "name": "python3"
  },
  "language_info": {
   "codemirror_mode": {
    "name": "ipython",
    "version": 3
   },
   "file_extension": ".py",
   "mimetype": "text/x-python",
   "name": "python",
   "nbconvert_exporter": "python",
   "pygments_lexer": "ipython3",
   "version": "3.10.8"
  }
 },
 "nbformat": 4,
 "nbformat_minor": 5
}
