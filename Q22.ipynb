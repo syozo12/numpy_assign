{
 "cells": [
  {
   "cell_type": "code",
   "execution_count": 1,
   "id": "e93800d0-65c8-413d-b185-330194ed8e54",
   "metadata": {},
   "outputs": [
    {
     "data": {
      "text/plain": [
       "' Write a Python function using NumPy to generate\\nan array of 10 equally spaced values between 0 and 1 \\n(inclusive)'"
      ]
     },
     "execution_count": 1,
     "metadata": {},
     "output_type": "execute_result"
    }
   ],
   "source": [
    "\"\"\" Write a Python function using NumPy to generate\n",
    "an array of 10 equally spaced values between 0 and 1 \n",
    "(inclusive)\"\"\""
   ]
  },
  {
   "cell_type": "code",
   "execution_count": 3,
   "id": "9e3cc7d0-f3c8-4258-b86a-c2a4b237e5b1",
   "metadata": {},
   "outputs": [
    {
     "data": {
      "text/plain": [
       "array([0.        , 0.11111111, 0.22222222, 0.33333333, 0.44444444,\n",
       "       0.55555556, 0.66666667, 0.77777778, 0.88888889, 1.        ])"
      ]
     },
     "execution_count": 3,
     "metadata": {},
     "output_type": "execute_result"
    }
   ],
   "source": [
    "import numpy as np\n",
    "def arr():\n",
    "    return np.linspace(0,1,10)\n",
    "arr()"
   ]
  },
  {
   "cell_type": "code",
   "execution_count": null,
   "id": "ac38d9b9-4b24-4c41-aec0-d286f372da0d",
   "metadata": {},
   "outputs": [],
   "source": []
  }
 ],
 "metadata": {
  "kernelspec": {
   "display_name": "Python 3 (ipykernel)",
   "language": "python",
   "name": "python3"
  },
  "language_info": {
   "codemirror_mode": {
    "name": "ipython",
    "version": 3
   },
   "file_extension": ".py",
   "mimetype": "text/x-python",
   "name": "python",
   "nbconvert_exporter": "python",
   "pygments_lexer": "ipython3",
   "version": "3.10.8"
  }
 },
 "nbformat": 4,
 "nbformat_minor": 5
}
